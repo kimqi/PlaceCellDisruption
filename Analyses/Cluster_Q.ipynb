{
 "cells": [
  {
   "cell_type": "code",
   "execution_count": 1,
   "id": "305f502f-1cf5-4287-84d1-39877e555c41",
   "metadata": {},
   "outputs": [],
   "source": [
    "# Import Core Packages\n",
    "%load_ext autoreload\n",
    "%autoreload 2\n",
    "\n",
    "import numpy as np\n",
    "import matplotlib.pyplot as plt\n",
    "import seaborn as sns\n",
    "import pandas as pd\n",
    "import sys\n",
    "import os\n",
    "from pathlib import Path\n",
    "import platform\n",
    "import shutil\n",
    "\n",
    "# Comment here to add in for either mac or linux computer\n",
    "if platform.system() == \"Linux\":   # for linux\n",
    "    sys.path.extend(['/home/kimqi/Documents/Repositories/NeuroPy']) "
   ]
  },
  {
   "cell_type": "code",
   "execution_count": 2,
   "id": "bb06cfe1-44dc-4c44-8e5c-f729d6858db4",
   "metadata": {},
   "outputs": [],
   "source": [
    "# Import NeuroPy Packages\n",
    "from neuropy import core\n",
    "from neuropy.core.session import ProcessData\n",
    "\n",
    "# Packages for Probe Configuration\n",
    "from neuropy.core import Shank, Probe, ProbeGroup\n",
    "from neuropy.plotting import plot_probe\n",
    "\n",
    "# Ripples\n",
    "from neuropy.analyses import oscillations\n",
    "\n",
    "# Neurons\n",
    "from neuropy.io import PhyIO\n",
    "from neuropy.core import Neurons\n",
    "from neuropy.core import BinnedSpiketrain\n",
    "from neuropy.core.neurons import binned_pe_raster\n",
    "\n",
    "from neuropy.analyses.spkepochs import detect_pbe_epochs\n",
    "from neuropy.core import Epoch\n",
    "from neuropy.io.openephysio import *\n",
    "\n",
    "# Plotting\n",
    "from neuropy.plotting import Fig\n",
    "from neuropy.plotting import spikes\n",
    "from neuropy.core.neurons import pe_raster"
   ]
  },
  {
   "cell_type": "code",
   "execution_count": 3,
   "id": "567bdc9d-6ed4-4165-8cef-cf880434aa15",
   "metadata": {},
   "outputs": [
    {
     "name": "stdout",
     "output_type": "stream",
     "text": [
      "filename: /media/kimqi/BK/Data/PCDisruption/Recording_Rats/Creampuff/2024_06_22_HomeCage1/Creampuff_Homecage1.xml \n",
      "# channels: 35\n",
      "sampling rate: 30000\n",
      "lfp Srate (downsampled): 1250\n",
      "\n",
      "duration: 3851.64 seconds \n",
      "duration: 1.07 hours \n",
      "\n"
     ]
    }
   ],
   "source": [
    "# Import Data Directory\n",
    "basepath = Path('/media/kimqi/BK/Data/PCDisruption/Recording_Rats/Creampuff/2024_06_22_HomeCage1')\n",
    "save_dir = Path('/home/kimqi/Documents/Code/PlaceCellDisruption/Analyses/Preliminary')\n",
    "plot_dir = Path('/home/kimqi/Documents/Code/PlaceCellDisruption/Analyses/Plots')\n",
    "sess = ProcessData(basepath)\n",
    "print(sess.recinfo)\n",
    "print(sess.eegfile)"
   ]
  },
  {
   "cell_type": "code",
   "execution_count": 6,
   "id": "b70f82ac-8b44-4cb2-adce-c1e2bc99349d",
   "metadata": {},
   "outputs": [
    {
     "name": "stdout",
     "output_type": "stream",
     "text": [
      "id column does not exist in cluster_info.tsv. Using cluster_id column instead.\n"
     ]
    }
   ],
   "source": [
    "# Neurons\n",
    "phy_dir = sorted(sess.basepath.glob(\"**/params.py\"))[0].parent\n",
    "sess.phy = PhyIO(dirname=phy_dir)\n",
    "\n",
    "sess.neurons = Neurons(sess.phy.spiketrains, t_stop=sess.eegfile.duration, neuron_ids=sess.phy.neuron_ids,\n",
    "                       neuron_type=sess.phy.cluster_info[\"group\"], waveforms=sess.phy.waveforms, \n",
    "                       waveforms_amplitude=sess.phy.waveforms_amplitude, sampling_rate=sess.recinfo.dat_sampling_rate,\n",
    "                       peak_channels=sess.phy.peak_channels, clu_q = sess.phy.clu_q, shank_ids=sess.phy.shank_ids)"
   ]
  },
  {
   "cell_type": "code",
   "execution_count": 7,
   "id": "db19dd32-235b-4950-bf42-bc8ecfd7c8aa",
   "metadata": {},
   "outputs": [
    {
     "data": {
      "text/plain": [
       "array([6., 6., 3., 6., 6., 3., 6., 6., 6., 2., 6., 6., 2., 6., 6., 8., 6.,\n",
       "       2., 6., 1., 6., 6., 6., 6., 6., 6., 6., 6., 6., 6., 6., 6., 8., 1.,\n",
       "       1., 2., 1., 1., 6., 3., 6., 3., 6., 6., 1., 6., 1., 6., 1.])"
      ]
     },
     "execution_count": 7,
     "metadata": {},
     "output_type": "execute_result"
    }
   ],
   "source": [
    "sess.neurons.clu_q"
   ]
  },
  {
   "cell_type": "code",
   "execution_count": null,
   "id": "bc4a08ef-c443-4c5f-8e8d-cd96897cd403",
   "metadata": {},
   "outputs": [],
   "source": []
  }
 ],
 "metadata": {
  "kernelspec": {
   "display_name": "Python 3 (ipykernel)",
   "language": "python",
   "name": "python3"
  },
  "language_info": {
   "codemirror_mode": {
    "name": "ipython",
    "version": 3
   },
   "file_extension": ".py",
   "mimetype": "text/x-python",
   "name": "python",
   "nbconvert_exporter": "python",
   "pygments_lexer": "ipython3",
   "version": "3.11.9"
  }
 },
 "nbformat": 4,
 "nbformat_minor": 5
}
