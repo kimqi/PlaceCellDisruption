{
 "cells": [
  {
   "cell_type": "markdown",
   "id": "9ab80679-5374-4037-aed9-0c289f46f8c9",
   "metadata": {},
   "source": [
    "# uLED Stimulation Analysis\n",
    "## Import Packages and Setup Environment\n",
    "### Import Core Packages"
   ]
  },
  {
   "cell_type": "code",
   "execution_count": 2,
   "id": "68f54d9f-33e3-4e73-b451-db6df2a60d3d",
   "metadata": {},
   "outputs": [
    {
     "name": "stdout",
     "output_type": "stream",
     "text": [
      "The autoreload extension is already loaded. To reload it, use:\n",
      "  %reload_ext autoreload\n"
     ]
    }
   ],
   "source": [
    "# Import Core Packages\n",
    "%load_ext autoreload\n",
    "%autoreload 2\n",
    "\n",
    "import numpy as np\n",
    "import matplotlib.pyplot as plt\n",
    "import seaborn as sns\n",
    "import pandas as pd\n",
    "import sys\n",
    "import os\n",
    "from pathlib import Path\n",
    "import platform\n",
    "import shutil"
   ]
  },
  {
   "cell_type": "markdown",
   "id": "145f8515-94ba-4c91-81f7-5ecfd58e50c2",
   "metadata": {},
   "source": [
    "### Get Current Operating System and set paths dependent on working OS"
   ]
  },
  {
   "cell_type": "code",
   "execution_count": 3,
   "id": "0dbb25a0-0da6-4985-b8a9-91560f4d37c3",
   "metadata": {},
   "outputs": [],
   "source": [
    "# Get current OS and set paths dependent on working OS.\n",
    "cur_system = platform.system()\n",
    "\n",
    "if cur_system == \"Linux\":   # for linux\n",
    "    sys.path.extend(['/home/kimqi/Documents/Repositories/NeuroPy'])  # NeuroPy Path\n",
    "\n",
    "    # Directories for current working session. These need to be set manually.\n",
    "    basepath = Path('/media/kimqi/BK/Data/PCDisruption/Recording_Rats/Creampuff/2024_06_22_HomeCage1')  # Data Directory\n",
    "    save_dir = Path('/home/kimqi/Documents/Code/PlaceCellDisruption/Analyses/Preliminary')              # Initial Save Directory\n",
    "    plot_dir = Path('/home/kimqi/Documents/Code/PlaceCellDisruption/Analyses/Plots')                    # Plot Save Directory\n",
    "\n",
    "elif cur_system == \"Windows\":   # For Windows\n",
    "    sys.path.extend(['C:\\\\BrianKim\\\\Code\\\\Repositories\\\\NeuroPy'])  # NeuroPy Path\n",
    "    \n",
    "    # Directories for current working session. These need to be set manually.\n",
    "    #basepath = Path('/media/kimqi/BK/Data/PCDisruption/Recording_Rats/Creampuff/2024_06_22_HomeCage1')  # Data Directory\n",
    "    #save_dir = Path('/home/kimqi/Documents/Code/PlaceCellDisruption/Analyses/Preliminary')              # Initial Save Directory\n",
    "    #plot_dir = Path('/home/kimqi/Documents/Code/PlaceCellDisruption/Analyses/Plots')                    # Plot Save Directory"
   ]
  },
  {
   "cell_type": "markdown",
   "id": "91104537-3730-4028-aa6e-98028480d84b",
   "metadata": {},
   "source": [
    "### Import NeuroPy Packages"
   ]
  },
  {
   "cell_type": "code",
   "execution_count": 4,
   "id": "491db5ee-68de-4d05-812a-e3e472c23114",
   "metadata": {},
   "outputs": [],
   "source": [
    "# Import NeuroPy Packages\n",
    "\n",
    "# Analyses\n",
    "from neuropy.analyses import oscillations\n",
    "from neuropy.analyses.spkepochs import detect_pbe_epochs\n",
    "\n",
    "# Core\n",
    "from neuropy import core\n",
    "\n",
    "from neuropy.core import Epoch\n",
    "from neuropy.core import Neurons\n",
    "from neuropy.core.neurons import binned_pe_raster\n",
    "from neuropy.core.neurons import pe_raster\n",
    "\n",
    "from neuropy.core import BinnedSpiketrain\n",
    "from neuropy.core import Shank, Probe, ProbeGroup\n",
    "\n",
    "from neuropy.core.session import ProcessData\n",
    "\n",
    "# IO\n",
    "from neuropy.io import PhyIO\n",
    "\n",
    "from neuropy.io.binarysignalio import BinarysignalIO\n",
    "from neuropy.io.openephysio import get_dat_timestamps\n",
    "\n",
    "# Plotting\n",
    "from neuropy.plotting import plot_probe\n",
    "from neuropy.plotting import Fig\n",
    "from neuropy.plotting import spikes\n",
    "\n",
    "from neuropy.plotting.signals import plot_signal_traces\n",
    "\n",
    "# Utils\n",
    "\n",
    "from neuropy.utils import neurons_util\n",
    "from neuropy.utils.ccg import correlograms\n",
    "from neuropy.utils.mathutil import contiguous_regions\n",
    "from neuropy.utils.signal_process import filter_sig"
   ]
  },
  {
   "cell_type": "markdown",
   "id": "5ab934d9-3713-48c6-8690-e9015c738aaa",
   "metadata": {},
   "source": [
    "## Get Current Session Data\n",
    "### Import Data"
   ]
  },
  {
   "cell_type": "code",
   "execution_count": 12,
   "id": "ed0edaae-fcb9-476d-80fa-40104f75b131",
   "metadata": {},
   "outputs": [
    {
     "name": "stdout",
     "output_type": "stream",
     "text": [
      "filename: /media/kimqi/BK/Data/PCDisruption/Recording_Rats/Creampuff/2024_06_22_HomeCage1/Creampuff_Homecage1.xml \n",
      "# channels: 35\n",
      "sampling rate: 30000\n",
      "lfp Srate (downsampled): 1250\n",
      "\n",
      "duration: 3851.64 seconds \n",
      "duration: 1.07 hours \n",
      "\n"
     ]
    }
   ],
   "source": [
    "# Import Data\n",
    "sess = ProcessData(basepath)\n",
    "print(sess.recinfo)\n",
    "print(sess.eegfile)"
   ]
  },
  {
   "cell_type": "markdown",
   "id": "3e10e0e7-6f9a-4ff6-a950-d1293aa649be",
   "metadata": {},
   "source": [
    "### Get Stim Events"
   ]
  },
  {
   "cell_type": "code",
   "execution_count": null,
   "id": "26a0b3cd-cea8-49d9-9c2e-f2c88d4f3e6f",
   "metadata": {},
   "outputs": [],
   "source": []
  },
  {
   "cell_type": "markdown",
   "id": "cc608f92-a8c5-464b-bfbb-13862cc831bf",
   "metadata": {},
   "source": [
    "### Get Neurons"
   ]
  },
  {
   "cell_type": "code",
   "execution_count": null,
   "id": "df6a0c2b-4e7d-4dfe-bf0b-23d0b3646bd4",
   "metadata": {},
   "outputs": [],
   "source": []
  },
  {
   "cell_type": "markdown",
   "id": "5d9d5556-2a5c-44c9-8dce-dc184594a3c7",
   "metadata": {},
   "source": [
    "#### Cell Classification"
   ]
  },
  {
   "cell_type": "code",
   "execution_count": null,
   "id": "de91f310-7b41-4aed-bef4-48165fa10e8b",
   "metadata": {},
   "outputs": [],
   "source": []
  },
  {
   "cell_type": "markdown",
   "id": "d5d90190-6279-44de-ae93-434fe81a3f89",
   "metadata": {},
   "source": [
    "#### Plot Cell Rasters"
   ]
  },
  {
   "cell_type": "code",
   "execution_count": null,
   "id": "68219927-4d17-4723-b683-98ae8e4cbc38",
   "metadata": {},
   "outputs": [],
   "source": []
  }
 ],
 "metadata": {
  "kernelspec": {
   "display_name": "Python 3 (ipykernel)",
   "language": "python",
   "name": "python3"
  },
  "language_info": {
   "codemirror_mode": {
    "name": "ipython",
    "version": 3
   },
   "file_extension": ".py",
   "mimetype": "text/x-python",
   "name": "python",
   "nbconvert_exporter": "python",
   "pygments_lexer": "ipython3",
   "version": "3.11.9"
  }
 },
 "nbformat": 4,
 "nbformat_minor": 5
}
