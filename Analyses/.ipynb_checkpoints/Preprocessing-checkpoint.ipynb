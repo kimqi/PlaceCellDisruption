{
 "cells": [
  {
   "cell_type": "markdown",
   "id": "b79c862a-9c2c-47c2-b49d-41a23b170bf8",
   "metadata": {},
   "source": [
    "# Data Preprocessing"
   ]
  },
  {
   "cell_type": "markdown",
   "id": "27aa5428-d12c-4881-a248-ff6b88fe7634",
   "metadata": {},
   "source": [
    "## Import Packages and Set Up Environment"
   ]
  },
  {
   "cell_type": "code",
   "execution_count": null,
   "id": "e953fe74-57b1-4592-a169-8cd6cff45edf",
   "metadata": {},
   "outputs": [],
   "source": []
  },
  {
   "cell_type": "markdown",
   "id": "ed651c1d-d109-49e3-ba1b-494b07cbcf08",
   "metadata": {},
   "source": [
    "### Import Core Packages"
   ]
  },
  {
   "cell_type": "code",
   "execution_count": null,
   "id": "79e41efa-c610-4169-ba9c-d3dca1facd3d",
   "metadata": {},
   "outputs": [],
   "source": []
  },
  {
   "cell_type": "markdown",
   "id": "fe38304a-bfad-4a99-afd6-592ead9652c1",
   "metadata": {},
   "source": [
    "### Get Current Operating System and Set Paths Dependent on Working OS"
   ]
  },
  {
   "cell_type": "code",
   "execution_count": null,
   "id": "667c36f2-bf07-480f-8d50-1f098489df3c",
   "metadata": {},
   "outputs": [],
   "source": []
  },
  {
   "cell_type": "markdown",
   "id": "e9b00e36-e60e-4a39-b20b-146b5024a1df",
   "metadata": {},
   "source": [
    "### Import NeuroPy Packages"
   ]
  },
  {
   "cell_type": "markdown",
   "id": "519bc27c-fd2e-4966-8921-9eab71c84581",
   "metadata": {},
   "source": []
  },
  {
   "cell_type": "markdown",
   "id": "d747581d-737a-4663-a4b5-0bf8d1eb164f",
   "metadata": {},
   "source": []
  },
  {
   "cell_type": "code",
   "execution_count": null,
   "id": "3040574d-4a90-4841-8e57-660fed6601cd",
   "metadata": {},
   "outputs": [],
   "source": []
  }
 ],
 "metadata": {
  "kernelspec": {
   "display_name": "Python 3 (ipykernel)",
   "language": "python",
   "name": "python3"
  },
  "language_info": {
   "codemirror_mode": {
    "name": "ipython",
    "version": 3
   },
   "file_extension": ".py",
   "mimetype": "text/x-python",
   "name": "python",
   "nbconvert_exporter": "python",
   "pygments_lexer": "ipython3",
   "version": "3.11.9"
  }
 },
 "nbformat": 4,
 "nbformat_minor": 5
}
