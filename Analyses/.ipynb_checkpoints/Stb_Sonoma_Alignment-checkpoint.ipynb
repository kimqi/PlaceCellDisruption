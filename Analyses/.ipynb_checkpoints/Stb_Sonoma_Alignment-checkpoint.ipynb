{
 "cells": [
  {
   "cell_type": "code",
   "execution_count": 1,
   "id": "7babf636-7166-4bb1-b581-056519fe0be2",
   "metadata": {},
   "outputs": [],
   "source": [
    "# Import Core Packages\n",
    "%load_ext autoreload\n",
    "%autoreload 2\n",
    "\n",
    "import math\n",
    "import numpy as np\n",
    "import matplotlib.pyplot as plt\n",
    "import seaborn as sns\n",
    "import pandas as pd\n",
    "import re\n",
    "import sys\n",
    "import os\n",
    "from pathlib import Path\n",
    "import platform\n",
    "import shutil"
   ]
  },
  {
   "cell_type": "code",
   "execution_count": 2,
   "id": "ccc60552-32e3-4903-ab45-ee6f545e2f58",
   "metadata": {},
   "outputs": [
    {
     "name": "stdout",
     "output_type": "stream",
     "text": [
      "Windows\n",
      "E:\\Data\\PCDisruption\\Strawberry\\Stb_2024-10-29_Bridgehampton\n",
      "Stb_2024-10-29_Bridgehampton\n",
      "Stb_Bridgehampton\n",
      "E:\\Analyses\\Preliminary\\Strawberry\\Stb_2024-10-29_Bridgehampton\n",
      "E:\\Analyses\\Preliminary\\Strawberry\\Stb_2024-10-29_Bridgehampton\\Plots\n"
     ]
    }
   ],
   "source": [
    "basepath = Path(r'E:\\Data\\PCDisruption\\Strawberry\\Stb_2024-10-29_Bridgehampton')\n",
    "animal = basepath.parent.name\n",
    "# Get current OS and set paths dependent on working OS.\n",
    "cur_system = platform.system()\n",
    "cur_dir = Path(os.getcwd())\n",
    "\n",
    "if cur_system == \"Linux\":  # For Linux\n",
    "    sys.path.extend(['/home/kimqi/Documents/Repositories/NeuroPy'])  # NeuroPy Path\n",
    "    # Directories \n",
    "\n",
    "elif cur_system == \"Windows\":\n",
    "    sys.path.extend([r'E:\\Code\\Repositories\\NeuroPy'])  # NeuroPy Path\n",
    "    \n",
    "    cur_folder = Path(basepath).name\n",
    "    session_name = re.sub(r'_\\d{4}-\\d{2}-\\d{2}_', '_', cur_folder)\n",
    "    save_dir = Path('E:\\Analyses\\Preliminary')\n",
    "    save_dir = Path(save_dir / animal)\n",
    "\n",
    "save_dir = Path(save_dir / cur_folder)\n",
    "plot_dir = Path(save_dir / 'Plots')\n",
    "\n",
    "\n",
    "save_dir.mkdir(parents=True, exist_ok=True)\n",
    "plot_dir.mkdir(parents=True, exist_ok=True)\n",
    "\n",
    "print(cur_system)\n",
    "print(basepath)\n",
    "print(cur_folder)\n",
    "print(session_name)\n",
    "print(save_dir)\n",
    "print(plot_dir)"
   ]
  },
  {
   "cell_type": "code",
   "execution_count": 3,
   "id": "763e0b81-7e31-479b-9310-a642c8943f0f",
   "metadata": {},
   "outputs": [],
   "source": [
    "import neuropy.io.optitrackio as optiio\n",
    "import neuropy.io.openephysio as oeio"
   ]
  },
  {
   "cell_type": "code",
   "execution_count": 9,
   "id": "cc737c30-af2e-4480-8937-866fa3d08d51",
   "metadata": {},
   "outputs": [
    {
     "name": "stdout",
     "output_type": "stream",
     "text": [
      "E:\\Data\\PCDisruption\\Strawberry\\Stb_2024-10-29_Bridgehampton\\Take 2024-10-29 12.01.59 PM.csv\n"
     ]
    }
   ],
   "source": [
    "dir_use = Path(r\"E:\\Data\\PCDisruption\\Strawberry\\Stb_2024-10-29_Bridgehampton\")\n",
    "event_dir = Path(r\"E:\\Data\\PCDisruption\\Strawberry\\Stb_2024-10-29_Bridgehampton\\2024-10-29_11-48-07\\Record Node 104\\experiment3\\recording2\\events\\RHD_Rec_Controller-100.Rhythm Data\\TTL\")\n",
    "opti_obj = optiio.OptitrackIO(dir_use) # Load in optitrack position data from .csv\n",
    "ttl_dict = oeio.load_ttl_events(event_dir)  # Load in TTL data"
   ]
  },
  {
   "cell_type": "code",
   "execution_count": 10,
   "id": "c4ed90b6-9ad2-4803-af16-45814219195f",
   "metadata": {},
   "outputs": [],
   "source": [
    "# Find OE frame that corresponds to motive start - adjust as needed for different TTL channel or multiple motive starts / stops\n",
    "motive_ttl_channel = 1\n",
    "record_start_frame = ttl_dict[\"timestamps\"][np.where(ttl_dict[\"channel_states\"] == motive_ttl_channel)[0][0]]\n",
    "\n",
    "# Convert to datetime\n",
    "motive_start_datetime = ttl_dict['start_time'] + pd.to_timedelta(record_start_frame / ttl_dict[\"SR\"], unit=\"sec\")\n",
    "\n",
    "# Now subtract to get absolute time passed in seconds from motive start\n",
    "motive_times_from_oe_rec_start = (opti_obj.datetime_array - motive_start_datetime).total_seconds()"
   ]
  },
  {
   "cell_type": "code",
   "execution_count": 13,
   "id": "032b2e65-09f4-4ba3-82e8-955cba2122f8",
   "metadata": {},
   "outputs": [
    {
     "data": {
      "text/plain": [
       "Float64Index([   -53.8936,  -53.860267,  -53.826933,    -53.7936,  -53.760267,\n",
       "               -53.726933,    -53.6936,  -53.660267,  -53.626933,    -53.5936,\n",
       "              ...\n",
       "              2070.939733, 2070.973067,   2071.0064, 2071.039733, 2071.073067,\n",
       "                2071.1064, 2071.139733, 2071.173067,   2071.2064, 2071.239733],\n",
       "             dtype='float64', length=63755)"
      ]
     },
     "execution_count": 13,
     "metadata": {},
     "output_type": "execute_result"
    }
   ],
   "source": [
    "motive_times_from_oe_rec_start"
   ]
  },
  {
   "cell_type": "code",
   "execution_count": null,
   "id": "07b0e329-220b-4f0d-ab33-21a3b2cfa254",
   "metadata": {},
   "outputs": [],
   "source": []
  }
 ],
 "metadata": {
  "kernelspec": {
   "display_name": "Python 3 (ipykernel)",
   "language": "python",
   "name": "python3"
  },
  "language_info": {
   "codemirror_mode": {
    "name": "ipython",
    "version": 3
   },
   "file_extension": ".py",
   "mimetype": "text/x-python",
   "name": "python",
   "nbconvert_exporter": "python",
   "pygments_lexer": "ipython3",
   "version": "3.11.9"
  }
 },
 "nbformat": 4,
 "nbformat_minor": 5
}
