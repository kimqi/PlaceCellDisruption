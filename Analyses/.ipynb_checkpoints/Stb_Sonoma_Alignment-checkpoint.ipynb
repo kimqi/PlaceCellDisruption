{
 "cells": [
  {
   "cell_type": "code",
   "execution_count": 1,
   "id": "7babf636-7166-4bb1-b581-056519fe0be2",
   "metadata": {},
   "outputs": [],
   "source": [
    "# Import Core Packages\n",
    "%load_ext autoreload\n",
    "%autoreload 2\n",
    "\n",
    "import math\n",
    "import numpy as np\n",
    "import matplotlib.pyplot as plt\n",
    "import seaborn as sns\n",
    "import pandas as pd\n",
    "import re\n",
    "import sys\n",
    "import os\n",
    "from pathlib import Path\n",
    "import platform\n",
    "import shutil"
   ]
  },
  {
   "cell_type": "code",
   "execution_count": 2,
   "id": "ccc60552-32e3-4903-ab45-ee6f545e2f58",
   "metadata": {},
   "outputs": [
    {
     "name": "stdout",
     "output_type": "stream",
     "text": [
      "Windows\n",
      "E:\\Data\\PCDisruption\\Strawberry\\Stb_2024-10-31_Sonoma\n",
      "Stb_2024-10-31_Sonoma\n",
      "Stb_Sonoma\n",
      "E:\\Analyses\\Preliminary\\Strawberry\\Stb_2024-10-31_Sonoma\n",
      "E:\\Analyses\\Preliminary\\Strawberry\\Stb_2024-10-31_Sonoma\\Plots\n"
     ]
    }
   ],
   "source": [
    "basepath = Path(r'E:\\Data\\PCDisruption\\Strawberry\\Stb_2024-10-31_Sonoma')\n",
    "animal = basepath.parent.name\n",
    "# Get current OS and set paths dependent on working OS.\n",
    "cur_system = platform.system()\n",
    "cur_dir = Path(os.getcwd())\n",
    "\n",
    "if cur_system == \"Linux\":  # For Linux\n",
    "    sys.path.extend(['/home/kimqi/Documents/Repositories/NeuroPy'])  # NeuroPy Path\n",
    "    # Directories \n",
    "\n",
    "elif cur_system == \"Windows\":\n",
    "    sys.path.extend([r'E:\\Code\\Repositories\\NeuroPy'])  # NeuroPy Path\n",
    "    \n",
    "    cur_folder = Path(basepath).name\n",
    "    session_name = re.sub(r'_\\d{4}-\\d{2}-\\d{2}_', '_', cur_folder)\n",
    "    save_dir = Path('E:\\Analyses\\Preliminary')\n",
    "    save_dir = Path(save_dir / animal)\n",
    "\n",
    "save_dir = Path(save_dir / cur_folder)\n",
    "plot_dir = Path(save_dir / 'Plots')\n",
    "\n",
    "\n",
    "save_dir.mkdir(parents=True, exist_ok=True)\n",
    "plot_dir.mkdir(parents=True, exist_ok=True)\n",
    "\n",
    "print(cur_system)\n",
    "print(basepath)\n",
    "print(cur_folder)\n",
    "print(session_name)\n",
    "print(save_dir)\n",
    "print(plot_dir)"
   ]
  },
  {
   "cell_type": "code",
   "execution_count": 3,
   "id": "763e0b81-7e31-479b-9310-a642c8943f0f",
   "metadata": {},
   "outputs": [],
   "source": [
    "import neuropy.io.optitrackio as optiio\n",
    "import neuropy.io.openephysio as oeio"
   ]
  },
  {
   "cell_type": "code",
   "execution_count": 16,
   "id": "db7845f2-7be9-4b72-a1c3-08bbe2761381",
   "metadata": {},
   "outputs": [
    {
     "name": "stdout",
     "output_type": "stream",
     "text": [
      "E:\\Data\\PCDisruption\\Strawberry\\Stb_2024-10-31_Sonoma\\2024-10-31_11-24-28\\Record Node 104\\settings.xml\n",
      "0.6.7\n",
      "E:\\Data\\PCDisruption\\Strawberry\\Stb_2024-10-31_Sonoma\\Take 2024-10-31 11.33.32 AM.csv\n"
     ]
    },
    {
     "data": {
      "text/plain": [
       "{'channel_states': array([ 2,  1, -1, ..., -1,  1, -1], dtype=int16),\n",
       " 'time_in_sec': array([ 544.35506667,  650.0781    ,  650.1281    , ..., 1583.4664    ,\n",
       "        1583.51726667, 1583.56726667]),\n",
       " 'full_words': array([2, 3, 2, ..., 2, 3, 2], dtype=uint64),\n",
       " 'timestamps': array([  130460,  3302151,  3303651, ..., 31303800, 31305326, 31306826],\n",
       "       dtype=int64),\n",
       " 'SR': 30000,\n",
       " 'recording_start_frame': 16200192,\n",
       " 'experiment_start_frame': 9216,\n",
       " 'start_time': Timestamp('2024-10-31 11:33:27.699200'),\n",
       " 'event_names': ''}"
      ]
     },
     "execution_count": 16,
     "metadata": {},
     "output_type": "execute_result"
    }
   ],
   "source": [
    "event_dir = Path(r\"E:\\Data\\PCDisruption\\Strawberry\\Stb_2024-10-31_Sonoma\\2024-10-31_11-24-28\\Record Node 104\\experiment1\\recording3\\events\\RHD_Rec_Controller-100.Rhythm Data\\TTL\")\n",
    "rec_start_path = Path(r\"E:\\Data\\PCDisruption\\Strawberry\\Stb_2024-10-31_Sonoma\\2024-10-31_11-24-28\\Record Node 104\\experiment1\\recording3\")\n",
    "rec_start = oeio.get_recording_start(rec_start_path)  # Load in TTL data\n",
    "opti_obj = optiio.OptitrackIO(dir_use) # Load in optitrack position data from .csv\n",
    "ttl_dict = oeio.load_ttl_events(event_dir)  # Load in TTL data"
   ]
  },
  {
   "cell_type": "code",
   "execution_count": 32,
   "id": "b410a476-f46a-4c88-bf26-b830ae7a921e",
   "metadata": {},
   "outputs": [
    {
     "data": {
      "text/plain": [
       "(datetime.datetime(2024, 10, 31, 11, 33, 27, 806000, tzinfo=tzfile('America/Detroit')),\n",
       " 'ms')"
      ]
     },
     "execution_count": 32,
     "metadata": {},
     "output_type": "execute_result"
    }
   ],
   "source": []
  },
  {
   "cell_type": "code",
   "execution_count": 31,
   "id": "0011968f-1d41-43e7-9f27-2fc7ddd25257",
   "metadata": {},
   "outputs": [
    {
     "data": {
      "text/plain": [
       "544.3550666666666"
      ]
     },
     "execution_count": 31,
     "metadata": {},
     "output_type": "execute_result"
    }
   ],
   "source": [
    "ttl_dict['time_in_sec'][0]\n",
    "#motive_start_datetime"
   ]
  },
  {
   "cell_type": "code",
   "execution_count": 14,
   "id": "c4ed90b6-9ad2-4803-af16-45814219195f",
   "metadata": {},
   "outputs": [],
   "source": [
    "# Find OE frame that corresponds to motive start - adjust as needed for different TTL channel or multiple motive starts / stops\n",
    "motive_ttl_channel = 2\n",
    "record_start_frame = ttl_dict[\"timestamps\"][np.where(ttl_dict[\"channel_states\"] == motive_ttl_channel)[0][0]]\n",
    "\n",
    "# Convert to datetime\n",
    "motive_start_datetime = ttl_dict['start_time'] + pd.to_timedelta(record_start_frame / ttl_dict[\"SR\"], unit=\"sec\")\n",
    "\n",
    "# Now subtract to get absolute time passed in seconds from motive start\n",
    "motive_times_from_oe_rec_start = (opti_obj.datetime_array - motive_start_datetime).total_seconds()"
   ]
  },
  {
   "cell_type": "code",
   "execution_count": 15,
   "id": "032b2e65-09f4-4ba3-82e8-955cba2122f8",
   "metadata": {},
   "outputs": [
    {
     "data": {
      "text/plain": [
       "Float64Index([   0.066133333,    0.099466333,    0.132800333,    0.166133333,\n",
       "                 0.199466333,    0.232800333,    0.266133333,    0.299466333,\n",
       "                 0.332800333,    0.366133333,\n",
       "              ...\n",
       "              3325.266133333, 3325.299466333, 3325.332800333, 3325.366133333,\n",
       "              3325.399466333, 3325.432800333, 3325.466133333, 3325.499466333,\n",
       "              3325.532800333, 3325.566133333],\n",
       "             dtype='float64', length=99766)"
      ]
     },
     "execution_count": 15,
     "metadata": {},
     "output_type": "execute_result"
    }
   ],
   "source": [
    "motive_times_from_oe_rec_start"
   ]
  },
  {
   "cell_type": "code",
   "execution_count": 18,
   "id": "07b0e329-220b-4f0d-ab33-21a3b2cfa254",
   "metadata": {},
   "outputs": [
    {
     "data": {
      "text/plain": [
       "{'channel_states': array([ 2,  1, -1, ..., -1,  1, -1], dtype=int16),\n",
       " 'time_in_sec': array([ 544.35506667,  650.0781    ,  650.1281    , ..., 1583.4664    ,\n",
       "        1583.51726667, 1583.56726667]),\n",
       " 'full_words': array([2, 3, 2, ..., 2, 3, 2], dtype=uint64),\n",
       " 'timestamps': array([  130460,  3302151,  3303651, ..., 31303800, 31305326, 31306826],\n",
       "       dtype=int64),\n",
       " 'SR': 30000,\n",
       " 'recording_start_frame': 16200192,\n",
       " 'experiment_start_frame': 9216,\n",
       " 'start_time': Timestamp('2024-10-31 11:33:27.699200'),\n",
       " 'event_names': ''}"
      ]
     },
     "execution_count": 18,
     "metadata": {},
     "output_type": "execute_result"
    }
   ],
   "source": [
    "ttl_dict"
   ]
  },
  {
   "cell_type": "code",
   "execution_count": null,
   "id": "5a8557b3-0a4a-4e65-a4ae-df6aff059dc1",
   "metadata": {},
   "outputs": [],
   "source": []
  }
 ],
 "metadata": {
  "kernelspec": {
   "display_name": "Python 3 (ipykernel)",
   "language": "python",
   "name": "python3"
  },
  "language_info": {
   "codemirror_mode": {
    "name": "ipython",
    "version": 3
   },
   "file_extension": ".py",
   "mimetype": "text/x-python",
   "name": "python",
   "nbconvert_exporter": "python",
   "pygments_lexer": "ipython3",
   "version": "3.11.9"
  }
 },
 "nbformat": 4,
 "nbformat_minor": 5
}
