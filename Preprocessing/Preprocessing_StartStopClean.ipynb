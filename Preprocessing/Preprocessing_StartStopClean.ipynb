{
 "cells": [
  {
   "cell_type": "markdown",
   "id": "b79c862a-9c2c-47c2-b49d-41a23b170bf8",
   "metadata": {},
   "source": [
    "# Data Preprocessing\n",
    "## Import Packages and Set Up Environment\n",
    "### Import Core Packages|"
   ]
  },
  {
   "cell_type": "code",
   "execution_count": 2,
   "id": "79e41efa-c610-4169-ba9c-d3dca1facd3d",
   "metadata": {},
   "outputs": [],
   "source": [
    "# Import packages\n",
    "%load_ext autoreload\n",
    "%autoreload 2\n",
    "\n",
    "import numpy as np\n",
    "import matplotlib.pyplot as plt\n",
    "import seaborn as sns\n",
    "import pandas as pd\n",
    "import re\n",
    "import sys\n",
    "import os\n",
    "from pathlib import Path\n",
    "import platform\n",
    "import shutil"
   ]
  },
  {
   "cell_type": "markdown",
   "id": "fe38304a-bfad-4a99-afd6-592ead9652c1",
   "metadata": {},
   "source": [
    "### Get Current Operating System and Set Paths Dependent on Working OS"
   ]
  },
  {
   "cell_type": "code",
   "execution_count": 3,
   "id": "c03fc84d-11fa-4e4e-8067-3f8983f44006",
   "metadata": {},
   "outputs": [
    {
     "name": "stdout",
     "output_type": "stream",
     "text": [
      "Basepath: E:\\Data\\PCDisruption\\Strawberry\\Stb_2024-10-30_Suzuka_2\n",
      "Working Directory: Stb_2024-10-30_Suzuka_2\n",
      "Session Name: Stb_Suzuka_2\n"
     ]
    }
   ],
   "source": [
    "# Get current OS and set paths dependent on working OS.\n",
    "cur_system = platform.system()\n",
    "\n",
    "# Get Data Directory\n",
    "basepath = Path(r'E:\\Data\\PCDisruption\\Strawberry\\Stb_2024-10-30_Suzuka_2')\n",
    "cur_folder = Path(basepath).name\n",
    "session_name = re.sub(r'_\\d{4}-\\d{2}-\\d{2}_', '_', cur_folder)\n",
    "\n",
    "print('Basepath:', basepath)\n",
    "print('Working Directory:', cur_folder)\n",
    "print('Session Name:', session_name)"
   ]
  },
  {
   "cell_type": "code",
   "execution_count": 4,
   "id": "fb01c2cd-af26-48ba-8b29-3bc554c9b64d",
   "metadata": {},
   "outputs": [
    {
     "name": "stdout",
     "output_type": "stream",
     "text": [
      "Save Directory: E:\\Analyses\\Preprocessing\\Stb_2024-10-30_Suzuka_2\n",
      "Plot Directory: E:\\Analyses\\Preprocessing\\Stb_2024-10-30_Suzuka_2\\Plots\n"
     ]
    }
   ],
   "source": [
    "# Set up environment for windows\n",
    "if cur_system == \"Windows\":\n",
    "    sys.path.extend(['E:\\\\Code\\\\Repositories\\\\NeuroPy'])  # NeuroPy Path\n",
    "    save_dir = Path('E:\\\\Analyses\\\\Preprocessing')\n",
    "elif cur_system == \"Linux\":\n",
    "    save_dir = Path('/home/kimqi/Documents/Code/PlaceCellDisruption/Preprocessing')\n",
    "    \n",
    "    # Old Code, just in case new code breaks\n",
    "    #basepath = os.getcwd()\n",
    "\n",
    "    #save_dir = Path('/home/kimqi/Documents/Code/PlaceCellDisruption/Preprocessing')\n",
    "    #plot_dir = Path('/home/kimqi/Documents/Code/PlaceCellDisruption/Preprocessing/Plots')\n",
    "# Set Session name as folders for notebook outputs\n",
    "save_dir = Path(save_dir / cur_folder)\n",
    "plot_dir = Path(save_dir / 'Plots')\n",
    "\n",
    "save_dir.mkdir(parents=True, exist_ok=True)\n",
    "plot_dir.mkdir(parents=True, exist_ok=True)\n",
    "\n",
    "print('Save Directory:', save_dir)\n",
    "print('Plot Directory:', plot_dir)"
   ]
  },
  {
   "cell_type": "markdown",
   "id": "e9b00e36-e60e-4a39-b20b-146b5024a1df",
   "metadata": {},
   "source": [
    "### Import NeuroPy Packages"
   ]
  },
  {
   "cell_type": "code",
   "execution_count": 5,
   "id": "3009e962-1594-4333-b906-fb9196660594",
   "metadata": {},
   "outputs": [],
   "source": [
    "# Import NeuroPy Packages\n",
    "from neuropy import core\n",
    "from neuropy.core import Epoch\n",
    "from neuropy.core.session import ProcessData\n",
    "\n",
    "from neuropy.analyses.artifact import detect_artifact_epochs\n",
    "\n",
    "from neuropy.plotting.signals import plot_signal_w_epochs\n",
    "\n",
    "from neuropy.io.openephysio import *\n",
    "from neuropy.io import SpykingCircusIO\n",
    "\n",
    "from neuropy.io.neuroscopeio import NeuroscopeIO"
   ]
  },
  {
   "cell_type": "markdown",
   "id": "d747581d-737a-4663-a4b5-0bf8d1eb164f",
   "metadata": {},
   "source": [
    "### Import Session Data"
   ]
  },
  {
   "cell_type": "code",
   "execution_count": 6,
   "id": "aecde3b5-05df-4a16-a917-4a6c7c3ac853",
   "metadata": {},
   "outputs": [
    {
     "name": "stdout",
     "output_type": "stream",
     "text": [
      "filename: E:\\Data\\PCDisruption\\Strawberry\\Stb_2024-10-30_Suzuka_2\\Stb_2024-10-30_Suzuka.xml \n",
      "# channels: 35\n",
      "sampling rate: 30000\n",
      "lfp Srate (downsampled): 1250\n",
      "\n",
      "duration: 2919.19 seconds \n",
      "duration: 0.81 hours \n",
      "\n"
     ]
    }
   ],
   "source": [
    "session_name = re.sub(r'_\\d{4}-\\d{2}-\\d{2}_', '_', cur_folder)\n",
    "sess = ProcessData(basepath)\n",
    "print(sess.recinfo)\n",
    "print(sess.eegfile)"
   ]
  },
  {
   "cell_type": "markdown",
   "id": "3b71a575-ee97-48e6-9f30-40f62f4a69a7",
   "metadata": {},
   "source": [
    "## Preprocess Ephys Data\n",
    "- Identify Artifacts\n",
    "    - Disconnects\n",
    "    - Filtering\n",
    "- Send events files to check in Neuroscope\n",
    "- Write `dead_times.txt` file for spyking-circus and `artifacts.npy` files\n",
    "### Identify Disconnects and Motion Artifacts"
   ]
  },
  {
   "cell_type": "code",
   "execution_count": 9,
   "id": "691377dd-8dfa-41a0-932a-f33dd849dc2b",
   "metadata": {},
   "outputs": [],
   "source": [
    "%matplotlib widget\n",
    "\n",
    "# Parameters\n",
    "buffer_add = 0.25    # Add buffer before and after detected artifact epochs, None = don't add any\n",
    "art_thresh = 5     # Artifact detection threshold\n",
    "art_edge_cutoff = 2  # Edge cutoff value\n",
    "art_merge = 6    # Merges epochs that are too close to each other\n",
    "\n",
    "# Plot Parameters\n",
    "chan_plot = 8\n",
    "\n",
    "# Get signal object\n",
    "signal = sess.eegfile.get_signal()"
   ]
  },
  {
   "cell_type": "code",
   "execution_count": null,
   "id": "ee5a7eac-b98c-42a4-9af2-9863eec81671",
   "metadata": {},
   "outputs": [
    {
     "name": "stdout",
     "output_type": "stream",
     "text": [
      "Buffer of 0.25 added before/after each epoch\n",
      "Artifact File: E:\\Data\\PCDisruption\\Strawberry\\Stb_2024-10-30_Suzuka_2\\Stb_Suzuka_2.evt.art\n",
      "Total artifact time = 222.2 seconds\n",
      "Automatically detected artifact epochs:\n",
      "        start       stop label  duration\n",
      "0      7.6852     8.2812          0.5960\n",
      "1     16.8204    20.0404          3.2200\n",
      "2     27.7860    28.2924          0.5064\n",
      "3     89.7076    90.2620          0.5544\n",
      "4    300.5436   380.7556         80.2120\n",
      "5    539.8156   559.3460         19.5304\n",
      "6    569.6316   570.2188          0.5872\n",
      "7   1216.2556  1218.7308          2.4752\n",
      "8   1236.6708  1238.9332          2.2624\n",
      "9   1246.9244  1249.1860          2.2616\n",
      "10  1255.7652  1258.0396          2.2744\n",
      "11  1269.4364  1271.8964          2.4600\n",
      "12  1282.3092  1284.4692          2.1600\n",
      "13  1297.5956  1299.9580          2.3624\n",
      "14  1307.5572  1309.8292          2.2720\n",
      "15  1324.0556  1326.5292          2.4736\n",
      "16  1333.1092  1335.2652          2.1560\n",
      "17  1344.5684  1346.9428          2.3744\n",
      "18  1359.2452  1361.5164          2.2712\n",
      "19  1370.3996  1373.1700          2.7704\n",
      "20  1379.7652  1382.0380          2.2728\n",
      "21  1391.4228  1393.9836          2.5608\n",
      "22  1402.1820  1404.3556          2.1736\n",
      "23  1411.2276  1413.5932          2.3656\n",
      "24  1426.7236  1429.1828          2.4592\n",
      "25  1438.0772  1440.4500          2.3728\n",
      "26  1450.6364  1453.2004          2.5640\n",
      "27  1462.0892  1464.4508          2.3616\n",
      "28  1474.6508  1476.9156          2.2648\n",
      "29  1488.5316  1490.7060          2.1744\n",
      "30  1497.6956  1500.0556          2.3600\n",
      "31  1511.2636  1514.3284          3.0648\n",
      "32  1521.5124  1523.6772          2.1648\n",
      "33  1530.9660  1536.8540          5.8880\n",
      "34  1546.2460  1548.6060          2.3600\n",
      "35  1557.1060  1561.7724          4.6664\n",
      "36  1569.5572  1571.7228          2.1656\n",
      "37  1587.3636  1590.4308          3.0672\n",
      "38  1596.9140  1598.9868          2.0728\n",
      "39  1606.9676  1609.4292          2.4616\n",
      "40  1617.0180  1619.1820          2.1640\n",
      "41  1628.2804  1632.7540          4.4736\n",
      "42  1639.9468  1642.0076          2.0608\n",
      "43  1654.5236  1660.7060          6.1824\n",
      "44  1667.2924  1669.6548          2.3624\n",
      "45  1688.8196  1691.5852          2.7656\n",
      "46  1706.5036  1708.7676          2.2640\n",
      "47  1777.2084  1777.7204          0.5120\n",
      "48  1798.6964  1801.3428          2.6464\n",
      "49  1836.2348  1836.7740          0.5392\n",
      "50  2358.9268  2364.2244          5.2976\n",
      "51  2424.2900  2424.9580          0.6680\n",
      "52  2518.4732  2519.0828          0.6096\n"
     ]
    },
    {
     "data": {
      "application/vnd.jupyter.widget-view+json": {
       "model_id": "6608f0f6545b462eae86686786b38ee3",
       "version_major": 2,
       "version_minor": 0
      },
      "image/png": "[encoded data removed]",
      "text/html": [
       "\n",
       "            <div style=\"display: inline-block;\">\n",
       "                <div class=\"jupyter-widgets widget-label\" style=\"text-align: center;\">\n",
       "                    Figure\n",
       "                </div>\n",
       "                <img src='data:image/png;base64,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' width=1200.0/>\n",
       "            </div>\n",
       "        "
      ],
      "text/plain": [
       "Canvas(toolbar=Toolbar(toolitems=[('Home', 'Reset original view', 'home', 'home'), ('Back', 'Back to previous …"
      ]
     },
     "metadata": {},
     "output_type": "display_data"
    }
   ],
   "source": [
    "# Find artifact epochs\n",
    "art_epochs = detect_artifact_epochs(signal, thresh=art_thresh, edge_cutoff=art_edge_cutoff, merge=art_merge)\n",
    "\n",
    "# Add in a buffer to prevent erroneous detetion of start/stop of artifact as SWRs.\n",
    "if buffer_add is not None:\n",
    "    art_epochs.add_epoch_buffer(buffer_add)\n",
    "\n",
    "# Plot automatically detected epochs to see how they look\n",
    "art_fig = plot_signal_w_epochs(signal, chan_plot, art_epochs)\n",
    "\n",
    "# Save evt.art file to visualize in Neuroscope\n",
    "sess.recinfo.write_epochs(epochs=art_epochs, ext='art')\n",
    "\n",
    "ns_art_file = basepath / f\"{session_name}.evt.art\"\n",
    "print('Artifact File:', ns_art_file)\n",
    "\n",
    "print(f'Total artifact time = {art_epochs.durations.sum():0.1F} seconds')\n",
    "print('Automatically detected artifact epochs:')\n",
    "print(art_epochs.to_dataframe())"
   ]
  },
  {
   "cell_type": "markdown",
   "id": "8171306f-e537-41d7-9cc1-0227d6053dec",
   "metadata": {},
   "source": [
    "### Check Events in Neuroscope\n",
    "- Load evt.art file in Neuroscope and check if it aligns with artifacts in the signal.\n",
    "- Check if there are any other artifact epochs that were missed by the automatic detection"
   ]
  },
  {
   "cell_type": "code",
   "execution_count": 7,
   "id": "189cd55a-1876-43f0-b7d5-d6d410a8dc5e",
   "metadata": {},
   "outputs": [
    {
     "name": "stdout",
     "output_type": "stream",
     "text": [
      "E:\\Data\\PCDisruption\\Strawberry\\Stb_2024-10-30_Suzuka_2\\Stb_2024-10-30_Suzuka.art_epochs.npy saved\n",
      "Total artifact time = 31.9 seconds\n",
      "Curated artifact epochs:\n",
      "        start       stop label  duration\n",
      "0      7.6852     8.2404          0.5552\n",
      "1     16.8884    20.0404          3.1520\n",
      "2     27.7862    28.2924          0.5062\n",
      "3     89.7076    90.2622          0.5546\n",
      "4    379.9760   380.5904          0.6144\n",
      "5    540.3644   559.0784         18.7140\n",
      "6   1777.2084  1777.7204          0.5120\n",
      "7   1798.6964  1799.4092          0.7128\n",
      "8   2358.9268  2364.2244          5.2976\n",
      "9   2424.2902  2424.9582          0.6680\n",
      "10  2518.4732  2519.0828          0.6096\n"
     ]
    }
   ],
   "source": [
    "cur_folder = \"Stb_2024-10-30_Suzuka\"\n",
    "ns_art_file = basepath / f\"{cur_folder}.evt.art\"\n",
    "art_epochs_file = sess.filePrefix.with_suffix(\".art_epochs.npy\")\n",
    "art_epochs = sess.recinfo.event_to_epochs(ns_art_file)\n",
    "art_epochs.save(art_epochs_file)\n",
    "print(f'Total artifact time = {art_epochs.durations.sum():0.1F} seconds')\n",
    "print('Curated artifact epochs:')\n",
    "print(art_epochs.to_dataframe())"
   ]
  },
  {
   "cell_type": "code",
   "execution_count": 10,
   "id": "1f5f2218-b025-495c-af32-d4b3dd8e1c5d",
   "metadata": {},
   "outputs": [
    {
     "data": {
      "application/vnd.jupyter.widget-view+json": {
       "model_id": "2f70c2a0b5c544169e9dcadec77df4c6",
       "version_major": 2,
       "version_minor": 0
      },
      "image/png": "[encoded data removed]",
      "text/html": [
       "\n",
       "            <div style=\"display: inline-block;\">\n",
       "                <div class=\"jupyter-widgets widget-label\" style=\"text-align: center;\">\n",
       "                    Figure\n",
       "                </div>\n",
       "                <img src='data:image/png;base64,iVBORw0KGgoAAAANSUhEUgAABLAAAAEsCAYAAADTvUpQAAAAOXRFWHRTb2Z0d2FyZQBNYXRwbG90bGliIHZlcnNpb24zLjkuMiwgaHR0cHM6Ly9tYXRwbG90bGliLm9yZy8hTgPZAAAACXBIWXMAAA9hAAAPYQGoP6dpAABcJ0lEQVR4nO3dd3wUZeLH8e+mh5AsCSEJgQChiGAAMSgERBAkgBQ97Hg5uVMUERGB83foqZweRQXkBPshqKh4ithQpEgRCR2k95IACQmQTnrm90fIkCWNkmQX8nm/Xvt6ZWeenX1m8uzszHeeedZiGIYhAAAAAAAAwEE52bsCAAAAAAAAQHkIsAAAAAAAAODQCLAAAAAAAADg0AiwAAAAAAAA4NAIsAAAAAAAAODQCLAAAAAAAADg0AiwAAAAAAAA4NAIsAAAAAAAAODQCLAAAAAAAADg0AiwAAAAAAAA4NAIsAAAAAAAAODQCLAAAAAAAADg0AiwAAAAAAAA4NAIsAAAAAAAAODQCLAAAAAAAADg0AiwAAAAAAAA4NAIsAAAAAAAAODQCLAAAAAAAADg0AiwAAAAAAAA4NAIsAAAAAAAAODQCLAAAAAAAADg0AiwAAAAAAAA4NAIsAAAAAAAAODQCLAAAAAAAADg0AiwAAAAAAAA4NAIsAAAAAAAAODQCLAAAAAAAADg0AiwAAAAAAAA4NAIsAAAAAAAAODQCLAAAAAAAADg0AiwAAAAAAAA4NAIsAAAAAAAAODQCLAAAAAAAADg0AiwAAAAAAAA4NBc7F0BXHsKCgp04sQJeXt7y2Kx2Ls6AAAAAIBrnGEYSktLU3BwsJyc6KtzLSLAQqU7ceKEQkJC7F0NAAAAAEANExsbq4YNG9q7GqgCBFiodN7e3pIKdxw+Pj52rk3F4s/Ea/y88ZKk4X2H652f3zH/Xrhhof56x18V5Bd0RcufvXT2FS8Hha7m7VnU1jxdPeXp7ilJyszOVGZupsY/OP6qWx8AuNqV9Z1yNX/X4NpRdNxgGIYsFssVHSsUP96tjmMOPkOwh9TUVIWEhJjno7j2EGCh0hXdNujj43NVBFgZeRly83CTJNX2rm3zt3std3n7eF/RemTkZVTKclDoat6eRW2tjncdeXsWfrGmZaYpPy3/qlwfALjalfWdcjV/1+DaUXTc4O7iruy87Ctqj8WPd6ujXfMZgj0xjM21ixtDAQAAAAAA4NAIsAAAAAAAAODQCLAAAAAAAADg0AiwAAAAAAAA4NAIsAAAAAAAAODQCLAAAAAAAADg0AiwUOOlZ+crNqOFsvI97V0VAAAAAABQChd7VwCwt9d/idHBtBt1LKOFvasCAAAAAABKQQ8s1HjRh1MlSdkFXkpMz9Pp7EA71wgAAAAAABRHgIUaLz073/x76OcntT3pNp0hxAIAAAAAwGEQYAGlSM6pZ+8qAAAAAACAcwiwAAAAAAAA4NAIsAAAAAAAAODQCLAcwLvvvqu2bdvKx8dHPj4+ioiI0M8//2zONwxD48ePV3BwsDw9PdW9e3ft3LnTZhnZ2dl6+umn5e/vLy8vLw0cOFDHjh2zKZOUlKSoqChZrVZZrVZFRUUpOTnZpkxMTIwGDBggLy8v+fv7a+TIkcrJyamydQcAAAAAAKgIAZYDaNiwoSZPnqyNGzdq48aN6tGjh+666y4zpHr99dc1bdo0zZw5Uxs2bFBQUJB69eqltLQ0cxmjRo3SggULNG/ePK1evVrp6enq37+/8vPPD1A+ePBgbd26VYsWLdKiRYu0detWRUVFmfPz8/PVr18/ZWRkaPXq1Zo3b57mz5+vMWPGVN/GAAAAAAAAuICLvSsAacCAATbPJ0yYoHfffVdr165V69atNX36dL3wwgsaNGiQJOnjjz9WYGCgPv/8cz3xxBNKSUnRrFmz9Omnn+qOO+6QJM2dO1chISFaunSpevfurd27d2vRokVau3atOnbsKEn68MMPFRERob1796ply5ZavHixdu3apdjYWAUHB0uSpk6dqiFDhmjChAny8fGpxq0CAAAAAABQiB5YDiY/P1/z5s1TRkaGIiIidPjwYcXHxysyMtIs4+7urm7dumnNmjWSpE2bNik3N9emTHBwsMLCwswy0dHRslqtZnglSZ06dZLVarUpExYWZoZXktS7d29lZ2dr06ZNZdY5OztbqampNg8AAAAAAIDKQoDlILZv367atWvL3d1dw4YN04IFC9S6dWvFx8dLkgIDA23KBwYGmvPi4+Pl5uYmX1/fcssEBASUeN+AgACbMhe+j6+vr9zc3MwypZk0aZI5rpbValVISMglrj0AAAAAAEDZCLAcRMuWLbV161atXbtWTz75pB555BHt2rXLnG+xWGzKG4ZRYtqFLixTWvnLKXOhcePGKSUlxXzExsaWWy8AAAAAAIBLQYDlINzc3NS8eXN16NBBkyZNUrt27fSf//xHQUFBklSiB1RCQoLZWyooKEg5OTlKSkoqt8zJkydLvG9iYqJNmQvfJykpSbm5uSV6ZhXn7u5u/oJi0QMAAAAAAKCyEGA5KMMwlJ2drdDQUAUFBWnJkiXmvJycHK1cuVKdO3eWJIWHh8vV1dWmTFxcnHbs2GGWiYiIUEpKitavX2+WWbdunVJSUmzK7NixQ3FxcWaZxYsXy93dXeHh4VW6vgAAAAAAAGXhVwgdwPPPP6++ffsqJCREaWlpmjdvnlasWKFFixbJYrFo1KhRmjhxolq0aKEWLVpo4sSJqlWrlgYPHixJslqtevTRRzVmzBjVrVtXfn5+Gjt2rNq0aWP+KmGrVq3Up08fDR06VO+//74k6fHHH1f//v3VsmVLSVJkZKRat26tqKgovfHGGzpz5ozGjh2roUOH0qsKAAAAAADYDQGWAzh58qSioqIUFxcnq9Wqtm3batGiRerVq5ck6bnnnlNmZqaGDx+upKQkdezYUYsXL5a3t7e5jDfffFMuLi66//77lZmZqZ49e2rOnDlydnY2y3z22WcaOXKk+WuFAwcO1MyZM835zs7OWrhwoYYPH64uXbrI09NTgwcP1pQpU6ppSwAAAAAAAJREgOUAZs2aVe58i8Wi8ePHa/z48WWW8fDw0IwZMzRjxowyy/j5+Wnu3LnlvlejRo30448/llsGAAAAAACgOjEGFgAAAAAAABwaARYAAAAAAAAcGgEWAAAAAAAAHBoBFgAAAAAAABwaARaAq05+gcXeVQAAAAAAVCMCLABXlW+2JOrTHR20dE+SvasCAAAAAKgmBFgAripvLImVJL34/WE71wQAAAAAUF0IsIBSGfauAAAAAAAAOIcACwAAAAAAAA6NAAsAAAAAAAAOjQALAAAAAAAADo0ACwAAAAAAAA6NAAsAAAAAAAAOjQALAAAAAAAADo0ACwAAAAAAAA6NAAsAAAAAAAAOjQALAAAAAAAADo0ACwAAAAAAAA6NAAsAAAAAAAAOjQALAAAAAAAADo0ACwAAAAAAAA6NAAsAAAAAAAAOjQALAAAAAAAADo0ACwAAAAAAAA6NAMsBTJo0STfffLO8vb0VEBCgu+++W3v37rUpYxiGxo8fr+DgYHl6eqp79+7auXOnTZns7Gw9/fTT8vf3l5eXlwYOHKhjx47ZlElKSlJUVJSsVqusVquioqKUnJxsUyYmJkYDBgyQl5eX/P39NXLkSOXk5FTJugMAAAAAAFSEAMsBrFy5Uk899ZTWrl2rJUuWKC8vT5GRkcrIyDDLvP7665o2bZpmzpypDRs2KCgoSL169VJaWppZZtSoUVqwYIHmzZun1atXKz09Xf3791d+fr5ZZvDgwdq6dasWLVqkRYsWaevWrYqKijLn5+fnq1+/fsrIyNDq1as1b948zZ8/X2PGjKmejQEAAACgUhmGobN5XjIMe9cEAC6fi70rAGnRokU2z2fPnq2AgABt2rRJt912mwzD0PTp0/XCCy9o0KBBkqSPP/5YgYGB+vzzz/XEE08oJSVFs2bN0qeffqo77rhDkjR37lyFhIRo6dKl6t27t3bv3q1FixZp7dq16tixoyTpww8/VEREhPbu3auWLVtq8eLF2rVrl2JjYxUcHCxJmjp1qoYMGaIJEybIx8enGrcMAAAAgCv1zsoTWn/qTjWpvcPeVQGAy0YPLAeUkpIiSfLz85MkHT58WPHx8YqMjDTLuLu7q1u3blqzZo0kadOmTcrNzbUpExwcrLCwMLNMdHS0rFarGV5JUqdOnWS1Wm3KhIWFmeGVJPXu3VvZ2dnatGlTFa0xAAAAgKoyd/1JSdKR9DA71wQALh89sByMYRgaPXq0br31VoWFFX7BxMfHS5ICAwNtygYGBuro0aNmGTc3N/n6+pYoU/T6+Ph4BQQElHjPgIAAmzIXvo+vr6/c3NzMMhfKzs5Wdna2+Tw1NfWi1xcAAAAAAKAi9MByMCNGjNC2bdv0xRdflJhnsVhsnhuGUWLahS4sU1r5yylT3KRJk8xB4a1Wq0JCQsqt09Wg/K0KAAAAAACqEwGWA3n66af1/fffa/ny5WrYsKE5PSgoSJJK9IBKSEgwe0sFBQUpJydHSUlJ5ZY5efJkifdNTEy0KXPh+yQlJSk3N7dEz6wi48aNU0pKivmIjY29lNUGAAAAcA1JPpunAgaMB1DJCLAcgGEYGjFihL755hv9+uuvCg0NtZkfGhqqoKAgLVmyxJyWk5OjlStXqnPnzpKk8PBwubq62pSJi4vTjh07zDIRERFKSUnR+vXrzTLr1q1TSkqKTZkdO3YoLi7OLLN48WK5u7srPDy81Pq7u7vLx8fH5gEAAACg5tkdl6q+M7fpl0PX27sqAK4xjIHlAJ566il9/vnn+u677+Tt7W32gLJarfL09JTFYtGoUaM0ceJEtWjRQi1atNDEiRNVq1YtDR482Cz76KOPasyYMapbt678/Pw0duxYtWnTxvxVwlatWqlPnz4aOnSo3n//fUnS448/rv79+6tly5aSpMjISLVu3VpRUVF64403dObMGY0dO1ZDhw4lmAIAAABQrv9tLLwb42SGt51rAuBaQ4DlAN59911JUvfu3W2mz549W0OGDJEkPffcc8rMzNTw4cOVlJSkjh07avHixfL2Pv/F8Oabb8rFxUX333+/MjMz1bNnT82ZM0fOzs5mmc8++0wjR440f61w4MCBmjlzpjnf2dlZCxcu1PDhw9WlSxd5enpq8ODBmjJlShWtPQAAAAAAQPkIsByAYVR8g7jFYtH48eM1fvz4Mst4eHhoxowZmjFjRpll/Pz8NHfu3HLfq1GjRvrxxx8rrBMAAAAAAEB1YAwsAAAAAAAAODQCLAAAAABApbDIYu8qALhGEWABAAAAAADAoRFgAQAAAAAAwKERYAEAAAAAKoWFOwgBVBECLAAAAAAAADg0AiwAAAAAAAA4NAIsAAAAAECl4A5CAFWFAAsAAAAAAAAOjQALAAAAAAAADo0ACwAAAABQKfgVQgBVhQALAAAAAAAADo0ACwAAAAAAAA6NAAsAAAAAAAAOjQALAAAAAFApLAyCBaCKEGABAAAAAADAoRFgAQAAAAAAwKERYAEAAAAAKgU3EAKoKgRYAAAAAAAAcGgEWKjxnPkUAAAAAADg0Dh1R43nRoIFAAAAVIrM3Hx7VwHANYozdwAAAABApfgk+qi9qwDgGkWABQAAAAAAAIdGgAUAAAAAAACHRoAFAAAAAAAAh0aA5QBWrVqlAQMGKDg4WBaLRd9++63NfMMwNH78eAUHB8vT01Pdu3fXzp07bcpkZ2fr6aeflr+/v7y8vDRw4EAdO3bMpkxSUpKioqJktVpltVoVFRWl5ORkmzIxMTEaMGCAvLy85O/vr5EjRyonJ6cqVhsAAAAAAOCiEGA5gIyMDLVr104zZ84sdf7rr7+uadOmaebMmdqwYYOCgoLUq1cvpaWlmWVGjRqlBQsWaN68eVq9erXS09PVv39/5eef/xWQwYMHa+vWrVq0aJEWLVqkrVu3Kioqypyfn5+vfv36KSMjQ6tXr9a8efM0f/58jRkzpupWHgAAAAAAoAIu9q4ApL59+6pv376lzjMMQ9OnT9cLL7ygQYMGSZI+/vhjBQYG6vPPP9cTTzyhlJQUzZo1S59++qnuuOMOSdLcuXMVEhKipUuXqnfv3tq9e7cWLVqktWvXqmPHjpKkDz/8UBEREdq7d69atmypxYsXa9euXYqNjVVwcLAkaerUqRoyZIgmTJggHx+fatgaAAAAAAAAtuiB5eAOHz6s+Ph4RUZGmtPc3d3VrVs3rVmzRpK0adMm5ebm2pQJDg5WWFiYWSY6OlpWq9UMrySpU6dOslqtNmXCwsLM8EqSevfurezsbG3atKnMOmZnZys1NdXmAQAAAAAAUFkIsBxcfHy8JCkwMNBmemBgoDkvPj5ebm5u8vX1LbdMQEBAieUHBATYlLnwfXx9feXm5maWKc2kSZPMcbWsVqtCQkIucS0BAAAAAADKRoB1lbBYLDbPDcMoMe1CF5YprfzllLnQuHHjlJKSYj5iY2PLrReAQoYhxWf4KTvfw95VAQAAAACHRoDl4IKCgiSpRA+ohIQEs7dUUFCQcnJylJSUVG6ZkydPllh+YmKiTZkL3ycpKUm5ubklemYV5+7uLh8fH5sHgIodTfHV7yduVHRif3tXBQAAoFK0bWi1dxUAXKMIsBxcaGiogoKCtGTJEnNaTk6OVq5cqc6dO0uSwsPD5erqalMmLi5OO3bsMMtEREQoJSVF69evN8usW7dOKSkpNmV27NihuLg4s8zixYvl7u6u8PDwKl1PoCY6kV4U9pbfmxIAAOBq0alpXXtXAcA1il8hdADp6ek6cOCA+fzw4cPaunWr/Pz81KhRI40aNUoTJ05UixYt1KJFC02cOFG1atXS4MGDJUlWq1WPPvqoxowZo7p168rPz09jx45VmzZtzF8lbNWqlfr06aOhQ4fq/ffflyQ9/vjj6t+/v1q2bClJioyMVOvWrRUVFaU33nhDZ86c0dixYzV06FB6VQFVwCC4AgAAAICLQoDlADZu3Kjbb7/dfD569GhJ0iOPPKI5c+boueeeU2ZmpoYPH66kpCR17NhRixcvlre3t/maN998Uy4uLrr//vuVmZmpnj17as6cOXJ2djbLfPbZZxo5cqT5a4UDBw7UzJkzzfnOzs5auHChhg8fri5dusjT01ODBw/WlClTqnoTADVG0bhXLq6GZNi7NgAAAABwdSDAcgDdu3eXYZR9JmuxWDR+/HiNHz++zDIeHh6aMWOGZsyYUWYZPz8/zZ07t9y6NGrUSD/++GOFdQZweU5mNdaelBvldjJPjXySKn4BAAAAAIAxsIDS0TUGVeN0dn1JUk4+1w8AAMC1hwESAFQVAiwAsBPGwAIAAACAi0OABeCq5FuLHkwAgKqxMy5DG+MaKjMn395VAQAA5xBgAYCdlDP0HQDAjh77dK92JNbXR2vi7V0VAABwDgEWgKvStRH+cAshADiyQ6cy7V0F4OrD4Q2AKkKABQDV6ppI3gCgRmCPjeq0/2Sa/jp7vf6ITbZ3VQDAIRFgAUA1Kn5RkhMjAHBsBeyoUY2GzN6g5XsTddfbv9u7KgDgkAiwgCqWV2AoLcfN3tWAI+LECAAcmnFt3K+Oq8Tx5GvjllUL9xACqCIEWEAV+/v8g5q/p51+259s76rAwXBaBACOjfwKAADHQYAFVLG1h1MlSf/bnGjnmsDRZOS627sKAIBykF8BAOA4CLCAasJVXFwoM8/F3lUAAJSDWwgBAHAcBFiosVKzcrXhyBmurqJaJWQ1Ov/EYIwIoDJtP5aiST/tVnp2ns10QghcLpoOAACOg8v/qLHunvm7Dp3KqMZ35CgYtmgRVePIqQz9d/UhPXFbM4X41bJ3dVCNBsxcLUnKys3Xv+4KkyQ99vFGnc7I1vxhneXkRGiMS8OvEAIA4DjogYUaq3rDq5p1FTcrN1+bjiapgCN/U0GBofVHUm2mGfxKT5UY/OFazV0bo0c+Wm8zPS+/QG8t269NR8/YqWa4XDl5BcrKzb/o8rvj0yQV9rxauvuktsQka39C+iW959y1R/WXj9brbE5exYXPWX/4jB76YK32nUy7pPcCgGuJhcMbAFWEAAuoJptjL+3k6Wo29JONuufdNWr10iLFnjmrR+ds0KzVhy9pGclnc9Rz6grNWLa/impZvb7efEzP/O+AzbSzuW52qs217URKlqSSIfVn62I0bck+3fNutD2qhctkGIY6TlyqG17+Rdl5FxdirT98Rk99vlm5+edD9NI6Xy3fk6AeU1doa2xyiXn//HaHVu1L1Jw1R8p9r6SMHC3fm6D8AkP3vx+t6EOn9dfZGy6qnkVOJGdq6uK9SkjNuqTXlScvv0C5+QWVtryaqqAmXX0CcMV+25+oiT/t5tZ1oIoQYAGodL/tPyVJys4rUNfXl2vZngS9+uOuMstPX7pPs1Yf1qn0bK3al6iCAkPvrzqkg4kZmrpkX3VVu0r9siPe3lWo8egVc3UxDEPHks7KMKSks7nKLzAUc/qsluw6eVH/y4Xb4vT9HyfM55ZiXQLOZOQoN79Af52zQYcSMzRk9vrSFiFJSssq2QOr+IlJv7d+019nb9DctUfNaXEpmdpxPEVrDpyqsJ6S9OdZ6zTj1wN67JONkgp7sV7JyU9BgaFbX1uuzpN/Vf4l9oTNyM5TTp5t8DVr9WG98sOuGnlCRkfiS7clJknPff2HTqVn27sqV70jpzO1IylCqTk+9q6K3Xy69qiGfrLxoi9gVMQwDB1ISK+ygD9q1np9sOrQJV+4tZfP1h1VtzeW6+jp6r0zBbhcBFiAAzuTkWOXEwbDMPTGL3u0cFtcpS73woGVJSn2zFlNX7pfr/64S7dPWaG/fLRe3/9xosQJ1NWO7vT2R0+K87Lz8vXPb7dr2e6T9q5Kmd5csk+3vrZc76w433NxS0yyhn6yUZFvrtJHF3FykHw2x/y7qAdW7JmzuunVJeo9fZU572x22SdGF56EFBQYuu+9aD32cWEvq6Iefy9/v/N8GUPqP2O1Bv93neJSMius56HEwhOHbcdSFJeSqetfXKQn52425xffHxqGodgzZ0v9bhj71R/66+z1Ss7MVXxqlhLTsnU64+JDhPTsPN3w8i/qPHmZzfRXf9ylj34/rJ0nUst4JXDen95Zo/9tPKYXFmy3d1Wues9+dVCnshtqbcJtlbjUq+u78MVvd2jJrpP638ZjlbK8bzYf1x3TVurxcxcMqson0UcrLuQAXliwQ0dPn9WL3+2suDDgAAiwgCqw43iKVuxNuKJlrNiboJteXaIxX/1RYdmE1Kwr7l0Sn5Jljg20Ym+i3l5+UE99vrmCV12asJd/0bNfbrXpEZBRbHyZop4Oy/cmlBgzLCs3X9MW763U+lSnmpqd/G9jrPpMX6VjSWclSQcT07XpaJJd6nKpPVGuZZ9GH9XctTF69OOqPYC/2HHwNsck6Zl5W2zCnrd+LQyupiw+3wtzT/z5/dwrP+5SSmauDMPQpqNnbMKqIsX/507nUuTFuwpDu6LQqIhhGPptf6LiU2xv48vJK9Dp9GzlFxg6nZ6tQ6fStfFokpbuTrio9TueVHGAVdyXG2IlSYt2FvbanLv2qK77589afO75xJ92q+vry/X+qkPKyy9Q7Jmz5mu/3nRMy/cmam+x7eR0Cen5rnMB1an0kttSks7mVNwDIi+/QHEpmUrKKH0ZFyv2zFlN+WWvEtPs24sn6Wxu5S8zo/AW+WlXcQ/j7Lx8bY5JKne/ejCxZvbo+HHbCT30wdpK6TEUn1r4OTIu45StoMDQir0JdvkMVcU1u/RSesNejF92xmvlvkTzedFFieV7E23KxZ45q8/XxVRaTy//2mUPE3EpYysahqEzF7E/XXvotIZ/tkknL+FW9OIXQrIvYZxJwJ4IsIBS2X71FhQYOp6cqey8fPNkKSWz8KD2YGK6eXJepP+M1Roye4MOJV7+uFczzp28fbP5uCSVO4DxLROXKfLNVYo9c1ZZufm68z+/aeavFY8dlZtfoF/3nFRKZq46TVqme96N1nsrD2rV/sRSyx89naGxX/2hX3Ze/u1wC7Yc13X//Nk82Swt2LFI+uNYss206Uv3mye0ZcnLL7iokCIzJ19/m7NBX6yPudhql/DxmiP6y0frL3pg6W3HUy6qXEU97hLTsnUgIV0/b4+7qHVNysjRj9tOXHQ9s3LzL+nAKr/A0J/e+V0jPt9sU/fvth7XLzvj9dzX27QnPk0TFu6WJPWculL3vLtGq/ef0paY6g2y8srYXgXngoni8gsMh7tdyjAM7Y5LVeZFhAiSdDo9W4M/XKtvtxwvMe9iD3CvZBss35OgNuN/0U/bz/fkzDt3y0ZCWpbGfbNdO859Lga9s0bfbT2hoeeuiG84UvpA+84XHLVk5+Vr2e4E3fNutHpMXVmi/JqDp82/i4Kcstap/4zVipq1Xp0mLSsxLye/QA9+EK3wfy/VjuPneyFdSs/KC8Ou5XsS9NzXf+jDVYfKLffPb3dIknlB4cPfCk++Jv+8R3+ds0FdX1+uOb8ftvmfFr81xlLKMj+JPqLHP9lo07PrVHq2XvpuR4Xr8cYve/Tz9tJ7534SfUTNX/hZEZN+VftXl0gqPCn8ckOMWaf9J9MU+eZKmx6+2Xn5evXHXVq9//wtlw9+sFYzlx9Q1Kx1ij54ulp/FKT4/vJ48pUFcaV5ZPZ6HUzM0FvL9pcavFbkWNJZ5eQVaN/JNLvtp0bN26pB76zRW+fGqSxtn3ngEn44YeG2OP1j/ja7j9t2PDlTx5MvLXS+0IjPtyj60Gk9VsUXCIocSkzXf387VOJ7fsGW4xoye4M6TlyqjAt6wK/an6wm/1ioB94/PybktmPJ+vN/15n7ZXu4cB2KtwfjMnqOnUrP1hOfbtIjH62v8LPSY+oKPb9gu95efrDU+RnZeRr0zu96b2Xp8y/U0LeW7pq5WusP236fvb5oj1q/9IvN/q48t762XDe9ukSr9pV+bF7kwQ/W6qft8Rr3zcX3fPyh2H6YXuq4WrjYuwKAIzub66oPfjuh2dEleyLVqeWqlX+/XT3PnTRFj+uhAG8PbS52Un74gkGkv9l8TINuamg+P5Gcqc6Tf9XNTXx1+FSG3rivnW5vGaCM7DybXirL9ybor7M3qFk9Ly0b092cvunoGZsBqXeeSNGEn3Yr9kymdsWlqnNzfwV4u6uhb61S12/60n16e/lBBfq4m9Mm/7zHpsyve06qx/WB+mpjrP7+9TZJhVf5l47upuYBtUss80BCxT3B8gsMdX1tufIKDGWWEqx8u/VEiWm/7il5q5NhGAod95Mk6U/tG2jBluNqXLeWVoztbjPezYU+iT6iX/ck6Nc9Cfpx2wmNH3CD6nm768ZXCk+4+retr7tvbKAft53QywNukK9XyatoRbcLfb4uRn+7NbTU9zEMQ6lZebJ6ul7UFdAJC3fpk+ijuvvGBgqyeujJ7s20dPdJta7vo1B/L53OyNHNE5aa5b3cnPXdiC5qHuCto6cz5OnmrABvD3N+Vm6+eRIpSbte6a3ks7n6IzZZkTcEybnYqNaFB2ZrtPdcT749r/aRi5NFp9JzFGT1UFZuvjxcnc2yaVl5quXurJv/vVTZeQXaEpOsLTHJWvBUZ8mQnpm31Wbdjpy2DXn/PGudpMLPTX2rpyTphz9OaP7mYxob2VLBdTzld267bzuWrPWHz+ivXULl7GRR7JnCcZCC63ioZZCP1h06rcgbguTn5VbqSW5+gaEpi/dqxQVXW3/ZGa/GdWtp4k97tGpfor4Z3lntGtZRq5cWmSf294U31Bv3tVNufoFcL0hPDMPQrNWHdX2Qjzo08dXPO+IU0dRfQVYPVcQwDGXlFmjNwVN6YcEOdbuungwZGtu7pfk/PJiYrt/2Jer3g6f16K2hWrkvUe+uOKhW9X30/p/DFZ+apQ9WHdLQrqGatfqwRvRorjYNrMrIyVdtdxdNWbxPaw6e1pqDpxV75qzSc/J07EymZg5uX2qvnPyCwt/FTEjLlqebs/71/U5tO56iH5++VR6uzkpIy1KAt4cOJKRr/Pc7dWeb+nJzcVItN2dFNK2rAsPQj9viFFzHU/GpWXrxXPAy/LPN2vfvvvp5R5xG/+8PPde7paIPndaKvYn6Yn2Mfn6mq1mHHcdTFTVrnTmO3oWKwpsiA2f8bgaTpV2hLn7VfVdcqhrVLX1fmJNfYHN73IIttreqzPz1gDYcKdwnj/pya6nLKIshafX+U2ab/98TEWriX0t/nVP6QO9lBfWl5TdF22n8D7s0/ofz4wzmFzsR+ST6qP6zbL8a+npq1d9vl5OTRS+du1Xk07VHlV9QID8vd/247YRND7fSLN+boHdXFJ68bRsfqU/WHFFEM3+FN/bV0dMZ5nKLnEzNUtfXl0uS5m2IVZO6XlpwLlB96vPN6te2n6TCCwKzVh/WrNWHdXjSnbJYLGaIsCc+TQ99uFav3h2mHtcHqEEdT3P5hmFo7Ffb5O3hovEDb1BWbr6OJ2fK38td1lquZrkLP79HT2do+/EU9WtT36a+hmHIYrGYoWGR9YfP6OYmvjbfK/kFhnLzC/TitzsUeUOQerUONNf52y3HNfPXA1oyuluJ/UFcSqa2HTsfEOSUEtgUFBj6etMx3diojq4L9LaZ9+nao+ZnS5Im/qmNBndsZNZ/T3yaQv29zP21VBgkHUpMV6/Wgdp2LEXXBXrL3cVJu+NTNWzuJrk6O2nqfe302qI9yswt0Md/vVl1ahXuf/PyC/Tb/lNq09Cq+JQs3RDsI8OQfj43ruN/lu3XiB7N1XPqSvl5uenrYRE29W3yj4Va/3xPebm7qJabs37YFqem/l4Ka2CVVBjGRR88bR5fNA+orUdvDTW3dVHo/XH0UV0XWFtdW9RTalauxn+3Uz1aBai+1VP/WbZfz/VuaS6zIilncxVz5qzaNLQtn52Xry6Tf5UkPdGtqcb1baWUs7n6evMxDWhXX19tPKa8fEPP3NGizGUXH3fvt/2nlJNXoOPJmfKr5SZrLVcVFBjKysuXp6uz8gsMuZxrl6lZuartZnta9voi2+OxI+mtlXw2T+tjjqt7ywAdSkzX/oR0PXdu2+07maY7WgXqtuvqycPVWcvOHTcVGNINL/9is6z/W1AYnK87fEav/rhLUZ0aa+DM3yUVhvlHJhd+NlfsTdDiXSc1qH0DtW/kq+NJmWro6ymn0n4VowLfbD4m/9ru+vC3Q9pxPEX33xyi53pfL4skJyeL/ohN1l1v/67Hbg3VP/u3liSFFzuGKZ6vnEzNUl0vN3P7Fdl1IlUWi9SqfuGYYcnFelAaRsmLDsv3JOj26wNkGIb5ox8r9yVqdK/rJBUeR725dJ/2xadp9YFTys03tDkmWcO6NZNUeDy0Jz5Nj368Qd2vq6fX7m1rLruoLdz/frS5X5Okd87tQ//1w04tGd1N6dl5qu1e+L+POX1WR89kaPbvR9Sqvrf+3vt6c1/4l4/Wa9KgNnrolkY26/DT9jibXmMXXlQv7o1f9ujt5Qe15Nnb1DygtuYWu81xw5EkPf7JRk29v51qu7soMzdftdyICuB4LIajXWLGVS81NVVWq1UpKSny8XHcQSeb/GNhmfMsKris7toX641726pdSB1FvrmqxLwjk/uVW7evh0Vo7Fd/aOCNDcwrn0UmD2qjf5Ry5eWPlyNlGIbeXn5Af4loIncXJy3dnaDnL3J8ig0v3GETnBRxcbLo0a6h6tUqUC99t1M3N/HVx9V4z//sv95c6q99LX72NvOgP7/AUGpmrv67+pD+1L6BPN1c9NK3O7Rsz/lbPOt5u5cZMAX6uOu1e9pqyOwNevTWUEU0rWsOtFxk6ejb1DzA9iQj5Wyu2r2yWJLU0NdTxyq4jejJ24L17irb4K6ul5tOX0S38fEDWtucvFaVeY93UmZOfpkn3kX6t62vHy9h/LQp97WTt4eLnvh0k830z4d2VOdm/ubnIbJ1oPaeTNPR02UfnF1oZM8WJT4nl6pdSB39EZusXq0DteTc7WeDbmpg9o6UJGcni9kj7qFbQvTygBv02boYvfrjLr3353DV83bT2kNnNKRzE2Xm5qvDv0t+niSpx/UBeqZnC33w26HLGoOux/UB+nVP+bcvv3ZPG3296ZgZyEiSh6uTsnJL7/kw4U9hij2TedFXnWHrk7/dor98VPYg8eWJbB1o3vIoSSvGdlf3KSsqfF2ov1eJCyhF3vtzuIbN3VTqvNLMHnJzhZ/5W0L9SvQyuBgtA73N0LzIIxGN9cwd1+mmYieuF3rzgXbacTz1kgZJLmrj/+h7vc2Fmv8Nba1pP/2ku27uoXHfHtJzfVrq9UWl367+cMdGerF/a13/4qIS8z6ICld+gaEnP7O94DW0a6iW7UnQocQMebu7KO2CnjDfPdVF7ULqmM+X70nQa4v2mGFi/7b1lZ1XoLM5eerS3L/Uuk0a1Eb3dwjRLzvjNfzc+z90SyNNGtRGWbn5pda3PB1D/fTlE4VB1LQl+2z2of/X53q9dkGwUvw7tE4tV5vQoCzfPtVF1wd5l1m3I5P7afmehBJtL7yxr/ILjFJ/ObTIQ7eEaN2hM/J0c9YNwT4a2K6B2oZY9cHKQ7J6umryoj3m/rq+1UMtAr3lV8tVd7apr8eLfQ8VPx4L8fNU7JnC7/GN/7xD/rULL/wdT87Uwx+u1ZT72ummRr5q+vxPZdbr0MQ7FfXROv1+4LR5XNCpqZ/WHrr0z05FNr/Yq9zP0MXwcnNWRik9fts2tKpXq0AFWT10b3hDrT5wStuOpej+DiFac/CUTiRn2bSR//65pfx86mrQO2vKfK9B7Rvom2K9hScPaqNlexLM79wi3z3VRRnZeRr838ILAnMf7agOTXzNsKgozNv77z5avidByWdzzeNiPy83Tb2vXYk2NeW+dhp7wXAdK8Z216drj2rjkTP641jJHmkN6njqp5FdzeO8ivwy6ja9v/KgujT3L3VokDtaBejPnRpryAXHtDv/1btE+BjVqbFuCPbRbdfVU2Jatu56+/cSy9v77z5yd3HW5pgk7Tyeohe/26kuzevq9wOnS5S90BO3NdWWmGStP3JGvz13u0L8ainlbK72xKfqllC/ci8QO4Kr5TwUl48AC5XuatlxlBcSXWuuC6ytfScv/3bGq1WAt7sSqmnsh7tuDNZ3W0+ocd1aahXkY45fAwAAri019bgKNdtL/VuXedeBo7hazkNx+RgDC6gBaupBVnWFV5L03bnbHo+ePkt4BQDANaymHlehZnvlx6rv7Q9UhAALAAAAAAAADo0AC6V65513FBoaKg8PD4WHh+u3336zd5UAAAAAAEANRYCFEr788kuNGjVKL7zwgrZs2aKuXbuqb9++iomJsXfVAAAAAABADUSAhRKmTZumRx99VI899phatWql6dOnKyQkRO+++669qwYAAAAAAGogAizYyMnJ0aZNmxQZGWkzPTIyUmvWlP7zt9nZ2UpNTbV5AAAAAAAAVBYCLNg4deqU8vPzFRgYaDM9MDBQ8fGl/7LapEmTZLVazUdISEh1VBUAAAAAANQQBFgolcVisXluGEaJaUXGjRunlJQU8xEbG1sdVQQAAAAAADWEi70rAMfi7+8vZ2fnEr2tEhISSvTKKuLu7i53d/fqqF6luiXUT+sPn7F3NQAAAAAAQAXogQUbbm5uCg8P15IlS2ymL1myRJ07d7ZTrarGmF7X2bsKAAAAAADgItADCyWMHj1aUVFR6tChgyIiIvTBBx8oJiZGw4YNs3fVKtV1gd72rgIAAAAAALgIBFgo4YEHHtDp06f1yiuvKC4uTmFhYfrpp5/UuHFje1etUvl6udm7CgAAAAAA4CIQYKFUw4cP1/Dhw+1dDQAAAACAnY3s0dzeVQAYAws128KRt1bp8u+6MbhKl3+hhzs2uqTyFzsOWLuG1jLnDe0aqlmPdNC28ZGq5139g/n7eJTM4T1cK3/X5uPhooHtyv5/TrmvnZydSv+lTtjP7CE327sKl61pPS890CHE3tUAUIbHb2t6xcu4MaSOGvnVuuzXv9S/tdxdrt3D+S+GdrJ3FUr1dCkn8v3a1i+17C1N/Kq0Lq/eHValy68qu17pXea82X8t+d1d291Fvz13e4npzQNqV2q9JOnbp7pUWOaZni0q9T37ta2v+8Ibms+DfDwU6FPyuPpvXUL19bCICpdX0TFpsNWjxLS3B9+k5WO720wbG3md1r/QUzMeaq+nK3mdgcthMQzDsHclcG1JTU2V1WpVSkqKfHx87F2dCjX5x8LLet2DN4foX3fdIHcXZ3PalpgkPfD+WuXkF2juox11awt/m+X/8VKkrLVcJUmPfbxBtdxc9PhtTdV/xmpNGtRGD93SSFMX71VGdr5eGtBahmEoLiVLy3af1Ivf7ZQkNa5bS8/0bKHWwT7y8XBV58m/SpIe6BCiyfe00eAP1yn60GlJ0qGJd+p4cqZCzh0c7zuZpuA6ntp2LFkN69RSo7qF008kZ+rwqQw9/N91kqTV/3e7bn1tuVnvw5Pu1Ozfj+iVH3fZbIP7OzTU6/e2M5+nZ+dpwZbjevHbHZe1TS/V/gl95erspCW7TuqFBduVkJYtSToyuZ82HU1SQmqWwhpYtebgKf2pfUN9vu6oxv9wfh283V20/V+9dSI5U59EH9XHa44oMzffnP/en29SyyAfbTuWrL5h9eXm4qT4lCwFeLvr/+Zv01ebjkmS/q/P9XqyezPzdafTszVz+QEN69ZMgT4eOpuTp9Yv/VLuurg5W5STf353PPFPbXRzE1/1enOVOa19ozraEpNc7nK8PVyUlpWnpvW8dCgxo8JtOOL25mpV30dPfb65xLz/PHijnpm3tcJlSJJ/bTctHNlVO0+kKKKpv1IycxVz5qy8PVw0+ec92hWXqn5t6mvOmiOSpPlPdtazX25VzJmzpS7vyOR++jT6iFKz8rQlJllLd5+ssA4P3hyiPfFpmnxPG4X6e5mfzfwCQ3PWHJGzRTb/f0lyc3ZS/7b19c2W4+Y0T1dnsx30vD5A/32kgywWixbtiNewuZskSZtf7KU6nq76v/nbdHOon1oGeuuut3/XY7eGysXZSd4eLmrXsI7q1HJVfoGhQ6fS9eyXf+iHEbdq4k+7Vbe2m0bd0UJ3TDv///1775YK9ffS8M8K/xeLRnXV9UGF+9C1h05r8s97tDU2WZL0w4hb1SKwto4nZ6rXtJUa3es6WSwW3RveUMeSMnXPu2skSdvHR8rLzUX/+mGnPo4+KqnwZGpkzxb686zCz3u36+rpbE6eNhxJstk2HRr7ytfLTX/rEqrGdWuZ+5oLBVs9NGPwTeZ7StI/+7VSk7pe6tjUT23GL67wf/fen8PNbVvVHolobG6Lstzesp7euK+dOvx7aaW853N9Wur1RXuveDltGli1/XhKJdTo4k29r53GfPXHRZd/7Z42+r/52y/7/VrV99G/7w6zaU/3d2ioZvVqa9LPe2zKfjG0kyKa1VVmTr5e/n6H/rexcJ/cr019LdweJ0n6a5cm2ngkSY90bqK+YUGaufyAcvIKlHQ2R99sPq7S3BDso50nUs3nD93SSOPuvF4f/35E9et4qlerQLm5OMnTrXAfU/Q9/9ljHbVqX6Lubt9Arer7qKDA0DsrDmjK4n1aNqabek5dKUka2bOF3lq2X5L01bAI3Xwu4Fhz8JT+NmeDsnILJEnTH7hRx5Mz9cYvhW1n1d9v121vnP9u3j4+Ut4erubz7Lx8tfznohLr83DHRup2XT0lpGVrwZbjCrJ6aOZD7ZVXYGjz0SQ98MFaSYUnqglp2XKyWDR+4A1KPpuj7LwCPTl3k+5sU1+dmtZValauPlx1SMv3JprLr+ftrsRz37/FXTj9yOR++nrTMU38abcG39JIQ879b6Ys3qu3HmyvpvW89OueBP20PU4/boszX7NoR7z+/vUfSsvKs1l+0fddEf/a7jqVni03Zye9fm9bjfpyqyQVnnh/sUXtGloV3thPH/1+WFLhvutESlaJekuFn7X3osLVpdh+7+kezTUmsqX5fNw32/TF+lhJ0tLRt6l5gLe+2hiro6fPanDHRhrx+Wa5Ojvpg790ULt/Fe4H147rqelL9+mBm0NUYBhqEeitTUeSlJKZa9a3PNHP3aTAOkGyWCSL5XxAkXw2RzN/PaD/rj6sPjcE6dW7w7Rs90nFp2ZpzpojSj6ba7OcHi3r6Ne9yTbT5j8ZofYhvjqZlqX//nZYKZm5+vrccU6RV+8O0+BbGskwDDV/4WdzevHvTUkadFODMj9fByb0lSS5OBcGr4ZhyGKx6E/v/G4e4xyZ3E/hry7R6YwcSdLBiXeagcyuE6nKysvXTY18zWUePpWhEF9PuTg7yTAMbY5J1is/7NRTtzfX458Wfre8etcN+nOnxtoSm6zQul767+pDenv5QfW+IVBdmvureUBthTf2lZuzkywWi5IycvT+qkPqGxaku97+3WYdbgypo2+f6qLkszlKOpurrzbG6p0VB/X6vW313NfbzHILhneWh6uzWtW3PR/Kyy9QXoGhoZ9s1G/7T0mS/tS+gZ7p2ULdp6wwt4FU8jylaPqZjBy9vmiPgut4qr7VQ4E+HvrLR+v1QIcQJaZn680HbpTV09Xcxv/6YZea1fPS4I6NzW15ICFdd0xbaS77m+GddVMjX2Xl5svJYpHbVRiOX23nobh0BFiodFfbjqO0ACvI87DiM0MlSe0aeqlri/q6/foA84B6xO3NNbZ3yxKvq2j5RV86l8owDIWO+0lS4RWrWm7nex1l5ebL3cXJPJCJPXNWY776Q493bao7Wgde0vt8/8cJNfX3UlgDqxJSs3TLxGWq6+WmTS/2kiRlZOep1rkD9pOp2Qoq5eqNJK3Ym6AhszeUmH59kLeiIhrrhQU7VMvNWWdz8kt5ta0jk/uVGTIW356GYej5BTsU5OOhZ+4o+wrRst0n9ejHG+Vf211r/tGjxJdzRnae/vLRevVqHahh3ZqVsZTzcvML5Opc8Rf8D3+c0NNfbClz/t3t/PXtH4UHMc5OFh2ceKckKTMnX61eKjwhmfPXm9W1RT0ln82Rn5ebLBaLTqZm6V8/7FRUpya6uYmvLBaLii66fbP5uHniOaBdsDYfTdLLA1rrllA/ffjbIZ1IztJr97SVm4uTRv9vq77ZfFw9rg9Q52Z1VaeWm+4Nb6jDpzJ0+7mDKUn63xMRGvH5Zo3t3dI8SOvXpr7efvimCreBJO2JT1ViWra6tqgnSdp5IkX93lqthzs2Upfm/hr+2WaN7NlCo4v1DswvMLTtWLLCGliVmZuvWq7OKjCko6czzIDvsVtD9c/+rSt8/7ve/l1/nAuBij7HhmEoMT1bAd4eKigwdDw5U11fX65Qfy+bK5EFBYamLdmnsAZW9QkLuqj1vRiGYehESpaCrR6yWCwyDENp2XnyKXZiKklTF+/VjF8PSKp4X/LF+hj5ebmp9w2F9czNL9Dz32zXnW0K92VF73sgIV1N/L2UlZuvjhOX2XwmL3yPnLwCLdoZr4zsPD10SyNzmpOl8ESk6HPq4eqkPa/2tVk/i8WiMxk5enfFAT3SuYlNQP79iC5q5FdLN75i++u3ZXn34Zv05GfnA9euLfzNEwB3Fye9++eb9Lc5G0t97eFJd+qT6KN6+fud5b7H3n/3kbuLc4UXOC48WSnLhfux+U9G6J53oyVJVk9XpWTmlvq6QB93nUy1DQA+XHVIE37aLVdni3KLhd4tAmprf0J6hXV59a4bzAsiF/p8aEcN/nCd+Xz52O4K9fe6pAs928dHlhlajh/QWrN+P6zYM5mSCgPknPwCc37xNlf8PRc/e5ua1autZs//ZE774+VI8+SsyC8747Xh8BmNu7OVJv20W2sPn9Znj3UqUa7Ioh3xmvXbPm04mqaojoF6tGsrNfH3KvH+FX3ejiWd1cnULIU3Lr+nzVcbY3UyNUuP39ZM1/2z8OR//Qs9FeB9/rs0v8DQ67/s0YbDZ/TF453k7uKseetj5OHqrLvbNzDr1dTfS79e0FNCklbuS9T/Nsbq33eFydfLTRnZefJyL3/EkFPp2fKr5SanS+hF/OAH0Vp76Iz+3rulhndvppgzZ/XR6sN6rGtT1bd6aE98mm4I9pFhSF9siNFtLeqZF9MqUlBg6LVf9ii8ka8iz+3DzmTk6KZXC/cRXz7eSTtOpOpvXZqYx0a3NPHTl0900rZjKQrxqyU/LzetOXBKpzJybHpP5+QVaNjcTTp8KkOfPdZRzk4Webm7yKLCi3kBPh7y8XAxj6mSz+bo603H1L6Rr8Ib+9rUMy+/QE9/sUUdmvjp0VtDy12nlMxcOVlkEzhe6K1l+zVtyT7zeVgDH+04nmpTJvq5m1Tfr/SeXlLhBbSi44MLFW/T0c/dpN0JTpr00x5zv1HaPv+9lQfNOn3+WEd1bu5vzn/lh136aXucvni8k+pbPZSZk68ft53QwHYN9MuueHPfuPCpNjqc5KIRn28p9X2KDP5wrdYcPG2Wyc0v0K97EtQx1E91al3+uLWn07O17ViKbruuXoleSRd7DLfjeIr+NmeDHu7YWL1aB6ppPS95uDrblEnLypW3h+sl7Tty8wvU4lwQeF94Q71xXzut3Jeoul5uCmtQePfDZ+uO6oUFhReG+7Wtr7cHX9zx1qX4ckOM4lKyNOqOq/8X2q+281BcOgIsVLqrbcdRUYDVs2UdzfprYVfiAwnpWr4nQVERjUt8cVW0/Jf6Ndbful5+N+/c/ALl5hfYhFdV7XR6trzcXS56XS809JONWrKrsOfMv+8O08MdG8lisSgvv8C88lb8ivFXwyL0/spDuqNVgBbvOqnHuoaqczN/7T+Zpq83H9OWmGStP3zGXP7lBIKGYWjniVQ18fdS7QoO6itTRQHWn27014KthSfht4T66X9PnO8e/tXGWB1ISNc/+l5f6kFpeYp28RW9zjAMncnIUd3aJburfxJ9RC99t1Mf/qWDehULRXccT9FXG2M1smeLUl93OVKzcksEN+X5etMxLdhyTO8MDjd7N5YnMS1b32w+pj+1b6AAn9IDWKnwZMnbw+WiDmyrS2JatnpMXaH+bYM1aVCbSl9+Tl6BVuxN0OOfblLP6wM06xJvv1y8M17jv9+ptx5qrw4V3DLzyEfrtXJfYQ+Ooivr3209flE9/oqHQcO7N1PHpnX1yEfrzXmS9NAHaxV96LQ+iAo3r76/1L+1/nZrqH4/cMrsbVpcUS+N4sspep+B7YL1/R8nzLK//6OHjp7OUOdm/qV+h3S7rp52x6UqIS1bXz7eSR2b1tWjczZo2Z4ESdLXwyJ073uFAdbnQzvqpka++tcPu/TAzSFydbao31urJRX29Cs6aS+ql2EYOpiYrlD/84FO0f616GS+uJsa1dHmYr0aiq/XLU38tCc+ValZeRrYLlj/efBGcxkzHmqvAedO/PPyC7T6wCmlZ+eZJ6GTB7XRP74p7GlVvMfntvGRansuwLqwx9CRyf2Uk1dghjcHJvQ1e3H0uD5AHxVrc+O+2a4v1sdIkn4ZdZtaBnnrb3M26Ndz2/ByLwhdKO5MnGYu/FAj+g21CQYOxR/Tc1/+oDceHKjQwAaV8l7Ffb4uRlm5+fpbBcHHhYp6qVzY87e6nc3J07ZjKbq5iV+13T6/5uApebo6q32xnjefRh9RXEqWnutzfbXUoao1e/4n5RcUfm+XdgGvogCrPBcGWPX96is7L19TftmrHtcHKqJZ3VJftzkmSelZebrtunoX/V5Ldp3U0E822rzXyn2JqlfbXa2DSz83OHIqQ0M/2ahh3ZrpnmK30jmKoosxFbnUC9dzfj+sueti9NljHRVYxnFJ0TLH9LqO2/gqcLWdh+LSMYg7UIa/3+GnT6OPaFTP8yeKzQNqX/K99lPuaaYv1yxX3xuu7IqJq7NTtZ9MX2koUTwe/3On879i6VJsPdxdnLV2XE9ZLFKgj4d5K8WDt5wfz6tFoLfG9W0l6fJv+SxisVjMq1qOpPi2uvBc4L4rGAfpYgMvi8VS5v/7LxFN9ODNjUr0VgtrYK30bXkp4ZUk3RveUPdewoFuPW93PXERPev8HPBXSut5u2vrS5FVdrLo5uKkyBuCtPr/bld9q+clvz7yhiCzt0RFZgxur/vfi9bDnc7fynDXjQ0U6u+lgTN/1+v3ttXag6f1zZbjuuvGYH23tTA86tem8MQtelwPrTt0RnfdGCyLxaJ3Hr5J1wWe3zd/8fj5cXPeeqi9Vu5NNPdBNxQ7eSoKWF6/t22p+9cfRtyq+ZuP6dk7rrMJsBrU8VSDOoXbaOno2/Titzs17s7r1aCOp2p7uMjdxVnp2Xk6npSplkHekqQP/9JBL3+/U4NuamAz5lHnZoU9GopCyYICQx1D/VTf6iE/Lzf974kI3f9+tJ49d2XcYrGoeUDhMuc93km741LNiwM9rw/Qsj0J+nvvluoTFqTEtGy5OlvM3l5FtrzYSz/viNd9HRoqPiVLC7fHmcv49qku2hqTpP7FxvNxcXZS95YByssvUNuGVl0X6K37O4To8KkM3dzETyv3JZoBVvHxmHy9XDXt/nYa/b8/9NAthfsxNxcnm5O696PC9b8NsXr93rY2dRw/sLW+WB+jRn611OLc927PVgH6dU+CvCv54oOrc0GJaZ5uzgqrd7JKxlSUpMGXOGZlkU8f7ahtx5LVMbT0sKG61HJzUaem1VuHos9KcVERTaq1DlVtwt1h+sc323VHq5I96Jt7b5FUub1v3F2c9UK/8nsvF79V72L1vD5A97Svp5OJ61RU524VBGBN/L20ZHS3S36v6nKxx1Pfj+iif367Q6/d07biwpKGdAnVkC7lB9nv/Tlci3fG67GuVz7uHnC1I8ACytClqacSE/bKv3b3K1tOM6t27K94/J5rUWkDrJemrFsRryUVdXU1JNW3eiguJcu87cuRXI3jIFyLqqOnQ0Pfyx9Q+mL5eLhq0ajbSkxv27COGW4MbBesgTcGq1PTuhrWrZkW7YjXqHO3B9e3euru9ud7xdzZpuweCQPbBdvcQlSnlpt+/0cPebg4qW5td/P9cvML1Kmpn9qF1DHLtmloVZtzP2Lx1O3N9Pbyg7q5ie3JXPMAb5vArEhtdxczvJIkJyeLzWDLy8Z0k1cpPWqdnCz6slgPzFtC/cq8it+paV2bEOG/j3TQsaRMNfT1lMViUbN6hcHP/Cc7K8TvfCjp6+VmBighfrVsbpe+MaSObiy2DYpzcXbS9yPO//jJuDsLLywU9aaTCk+IvxjaSQWGIW8PVw26qaEGtgu2uXBRXO8bgkrd57m7OOvwpMJbqYtOHB+8uZH8a7urfRn1qwlqu7uUGuTg2vDAzSHq0MRXTep6lZjX0OvAFS37vcHXadjn+1TX/bgqOwi7kJOTRWN7hej9RSV7hV7r2jasY7OfrAx9woIqdegC4GpGgAWgyvzjzut19MzZS/51xJrIMAwtHNlVW2KS1L1lgL2rA9idh6uz+VloVd+nxCC4V6Ko91Rxrs5Omvd42b/sNOqO63RLaN0S4+BcrqJwqTJZLJZSxxmqrDqX5bGuofp07VHzF7QuvBWprPCqIhf2eHB2sjhkwA9UluI9LCtbu4a1dVvg13KyGJIGVMl7AEBVI8ACSsXQcJUhwNtD85/sbO9qXBXuDKsrPy839SzltgEA9ufq7FThLTA1VeO6XubA9wAcV2F4BQBXL+4JAYBqUNHvZbRrWPm9MQCguhBeAQCAqkYPLACoBmX9kuOtwVuUm3NCVT0eBQAAuLpYxD0BAFAcPbAAoBr0vD5AnZuWHMMn0CtJni5n7VAjAADgyF64s/DXU1v47LZzTQDAMRBgAaWo+t/5Qk3j4uykqfc2t5nWqm7N/HVKAABQsX5hddUl4Fs19dlv76oAgEMgwAIAO7klOMbeVQAAAA7M1SnX3lUAAIdBgAUAdmKhqx8AAAAAXBQCLAAAAAAAADg0AiwAqEYezun2rgIAAAAAXHUIsACgGlldT9m7CgAAAABw1SHAAoBqZLEY9q4CAAAAAFx1CLAAAAAAAADg0AiwgFLRSwYAAAAAAEdBgAUAAAAAAACHRoAFANWK3n0AAAAAcKkIsACgGlnsXQEAAAAAuAoRYAEAAAAAAMChEWA5gAkTJqhz586qVauW6tSpU2qZmJgYDRgwQF5eXvL399fIkSOVk5NjU2b79u3q1q2bPD091aBBA73yyisyDNvblVauXKnw8HB5eHioadOmeu+990q81/z589W6dWu5u7urdevWWrBgQaWtKwBuIQQAAACAS0WA5QBycnJ033336cknnyx1fn5+vvr166eMjAytXr1a8+bN0/z58zVmzBizTGpqqnr16qXg4GBt2LBBM2bM0JQpUzRt2jSzzOHDh3XnnXeqa9eu2rJli55//nmNHDlS8+fPN8tER0frgQceUFRUlP744w9FRUXp/vvv17p166puAwAAAAAAAJTDxd4VgPSvf/1LkjRnzpxS5y9evFi7du1SbGysgoODJUlTp07VkCFDNGHCBPn4+Oizzz5TVlaW5syZI3d3d4WFhWnfvn2aNm2aRo8eLYvFovfee0+NGjXS9OnTJUmtWrXSxo0bNWXKFN1zzz2SpOnTp6tXr14aN26cJGncuHFauXKlpk+fri+++KJqNwQAAAAAAEAp6IF1FYiOjlZYWJgZXklS7969lZ2drU2bNpllunXrJnd3d5syJ06c0JEjR8wykZGRNsvu3bu3Nm7cqNzc3HLLrFmzpipWzWEx0DaqCm0LAAAAAC4dAdZVID4+XoGBgTbTfH195ebmpvj4+DLLFD2vqExeXp5OnTpVbpmiZZQmOztbqampNg8AZWEMLAAAAAC4VARYVWT8+PGyWCzlPjZu3HjRy7NYSvbbMAzDZvqFZYoGcK+MMqW9f5FJkybJarWaj5CQkIpWB6ixrG6n7F0FAAAAALjqMAZWFRkxYoQefPDBcss0adLkopYVFBRUYhD1pKQk5ebmmr2lgoKCSvSSSkhIkKQKy7i4uKhu3brllrmwV1Zx48aN0+jRo83nqamphFhAGQI8YmX19FKDOgX2rgoAAAAAXDUIsKqIv7+//P39K2VZERERmjBhguLi4lS/fn1JhQO7u7u7Kzw83Czz/PPPKycnR25ubmaZ4OBgMyiLiIjQDz/8YLPsxYsXq0OHDnJ1dTXLLFmyRM8++6xNmc6dO5dZP3d3d5uxt64N3OaFqmGxSA28E+Xt5m3vqgAAAADAVYNbCB1ATEyMtm7dqpiYGOXn52vr1q3aunWr0tPTJUmRkZFq3bq1oqKitGXLFi1btkxjx47V0KFD5ePjI0kaPHiw3N3dNWTIEO3YsUMLFizQxIkTzV8glKRhw4bp6NGjGj16tHbv3q2PPvpIs2bN0tixY826PPPMM1q8eLFee+017dmzR6+99pqWLl2qUaNGVft2AQAAAAAAkAiwHMJLL72k9u3b6+WXX1Z6errat2+v9u3bm2NkOTs7a+HChfLw8FCXLl10//336+6779aUKVPMZVitVi1ZskTHjh1Thw4dNHz4cI0ePdrm1r7Q0FD99NNPWrFihW688Ua9+uqreuutt3TPPfeYZTp37qx58+Zp9uzZatu2rebMmaMvv/xSHTt2rL4NAgAAAAAAUAy3EDqAOXPmaM6cOeWWadSokX788cdyy7Rp00arVq0qt0y3bt20efPmcsvce++9uvfee8stAwAAAAAAUF3ogQWUpuwfXQQAAAAAANWMAAsAAAAAAAAOjQALAAAAAAAADo0ACwAAAAAAAA6NAAvAVeX+8HqSpMdvrW/nmgAAAAAAqgu/QgjgqjKqR0Plpi/TkIj29q4KAAAAAKCa0AMLwFXFYrHI6p4ti4WfigQAAACAmoIACwAAAAAAAA6NAAsohUWGvasAAAAAAADOIcACAAAAAACAQyPAAgAAAAAAgEMjwAIAAAAAAIBDI8ACAAAAAACAQyPAAgAAAAAAgEMjwAIAAAAAAIBDI8ACAAAAAACAQyPAAgAAAAAAgEMjwAIAAAAAAIBDI8ACAAAAAACAQyPAAgAAAAAAgEMjwAJKZdi7AgAAAAAA4BwCLAAAAAAAADg0AiwAAAAAAAA4NAIsAAAAAAAAODQCLAAAAAAAADg0Aiw7O3LkiB599FGFhobK09NTzZo108svv6ycnBybcjExMRowYIC8vLzk7++vkSNHliizfft2devWTZ6enmrQoIFeeeUVGYbtYOQrV65UeHi4PDw81LRpU7333nsl6jR//ny1bt1a7u7uat26tRYsWFD5K+7gLPauAAAAAAAAMLnYuwI13Z49e1RQUKD3339fzZs3144dOzR06FBlZGRoypQpkqT8/Hz169dP9erV0+rVq3X69Gk98sgjMgxDM2bMkCSlpqaqV69euv3227Vhwwbt27dPQ4YMkZeXl8aMGSNJOnz4sO68804NHTpUc+fO1e+//67hw4erXr16uueeeyRJ0dHReuCBB/Tqq6/qT3/6kxYsWKD7779fq1evVseOHe2zkQAAAAAAQI1GgGVnffr0UZ8+fcznTZs21d69e/Xuu++aAdbixYu1a9cuxcbGKjg4WJI0depUDRkyRBMmTJCPj48+++wzZWVlac6cOXJ3d1dYWJj27dunadOmafTo0bJYLHrvvffUqFEjTZ8+XZLUqlUrbdy4UVOmTDEDrOnTp6tXr14aN26cJGncuHFauXKlpk+fri+++KIatwwAAAAAAEAhbiF0QCkpKfLz8zOfR0dHKywszAyvJKl3797Kzs7Wpk2bzDLdunWTu7u7TZkTJ07oyJEjZpnIyEib9+rdu7c2btyo3NzccsusWbOmzPpmZ2crNTXV5gEAAAAAAFBZCLAczMGDBzVjxgwNGzbMnBYfH6/AwECbcr6+vnJzc1N8fHyZZYqeV1QmLy9Pp06dKrdM0TJKM2nSJFmtVvMREhJyKasMAAAAAABQLgKsKjJ+/HhZLJZyHxs3brR5zYkTJ9SnTx/dd999euyxx2zmWSwlhxU3DMNm+oVligZwr4wypb1/kXHjxiklJcV8xMbGllkWAAAAAADgUjEGVhUZMWKEHnzwwXLLNGnSxPz7xIkTuv322xUREaEPPvjAplxQUJDWrVtnMy0pKUm5ublmb6mgoKASvaQSEhIkqcIyLi4uqlu3brllLuyVVZy7u7vNrYsAAAAAAACViQCrivj7+8vf3/+iyh4/fly33367wsPDNXv2bDk52XaMi4iI0IQJExQXF6f69etLKhzY3d3dXeHh4WaZ559/Xjk5OXJzczPLBAcHm0FZRESEfvjhB5tlL168WB06dJCrq6tZZsmSJXr22WdtynTu3PnSNwIAAAAAAEAl4BZCOztx4oS6d++ukJAQTZkyRYmJiYqPj7fpBRUZGanWrVsrKipKW7Zs0bJlyzR27FgNHTpUPj4+kqTBgwfL3d1dQ4YM0Y4dO7RgwQJNnDjR/AVCSRo2bJiOHj2q0aNHa/fu3froo480a9YsjR071nyvZ555RosXL9Zrr72mPXv26LXXXtPSpUs1atSoat0u9mfYuwIAAAAAAOAcemDZ2eLFi3XgwAEdOHBADRs2tJlXND6Vs7OzFi5cqOHDh6tLly7y9PTU4MGDNWXKFLOs1WrVkiVL9NRTT6lDhw7y9fXV6NGjNXr0aLNMaGiofvrpJz377LN6++23FRwcrLfeekv33HOPWaZz586aN2+e/vnPf+rFF19Us2bN9OWXX6pjx45VvCUAAAAAAABKR4BlZ0OGDNGQIUMqLNeoUSP9+OOP5ZZp06aNVq1aVW6Zbt26afPmzeWWuffee3XvvfdWWCcAAAAAAIDqwC2EAAAAAAAAcGgEWAAAAAAAAHBoBFgAAAAAAABwaARYAAAAAAAAcGgEWAAAAAAAAHBoBFhAKSz2rgAAAAAAADARYAEAAAAAAMChEWABAAAAAADAoRFgAQAAAAAAwKERYAGlsRj2rgEAAAAAADiHAAsAAAAAAAAOjQALAAAAAAAADo0ACwAAAAAAAA6NAAsAAAAAAAAOjQALNZ6HKx8DAAAAAAAcGWfuqPFubuwtSXK25Nq5JgAAAAAAoDQEWKjxnu/TWI29dim87hJzWm2XZPtVCAAAAAAA2CDAQo1Xp5aLQr13qpZLhqYNqqcWPpsU4BFr72oBAAAAAIBzXOxdAcCRNPV3U4Nah+xdDQAAAAAAUAw9sAAAAAAAAODQCLAAAAAAAADg0AiwAAAAAAAA4NAIsAAAAAAAAODQCLAAAAAAAADg0AiwAAAAAAAA4NAIsAAAAAAAAODQXOxdAVx7DMOQJKWmptq5JhcnLTVNOVk5kqT0tHSbv7PPZistNU1eLl5XtPzKWA4KXc3bs6itJecnKzszW5KUmZ2pnNycq3J9AOBqV9Z3ytX8XYNrR9FxQ7aRLYvFckXtsfjxbnW0az5DsIei88+i81FceywG/11UsmPHjikkJMTe1QAAAAAA1DCxsbFq2LChvauBKkCAhUpXUFCgEydOyNvbWxaLxd7VKVNqaqpCQkIUGxsrHx8fe1cHVyHaEK4UbQhXijaEK0UbwpWg/eBKVWYbMgxDaWlpCg4OlpMToyVdi7iFEJXOycnpqkq8fXx8+MLFFaEN4UrRhnClaEO4UrQhXAnaD65UZbUhq9VaCbWBoyKWBAAAAAAAgEMjwAIAAAAAAIBDI8BCjeXu7q6XX35Z7u7u9q4KrlK0IVwp2hCuFG0IV4o2hCtB+8GVog3hUjCIOwAAAAAAABwaPbAAAAAAAADg0AiwAAAAAAAA4NAIsAAAAAAAAODQCLAAAAAAAADg0AiwUGO98847Cg0NlYeHh8LDw/Xbb7/Zu0pwAOPHj5fFYrF5BAUFmfMNw9D48eMVHBwsT09Pde/eXTt37rRZRnZ2tp5++mn5+/vLy8tLAwcO1LFjx6p7VVBNVq1apQEDBig4OFgWi0XffvutzfzKajNJSUmKioqS1WqV1WpVVFSUkpOTq3jtUB0qakNDhgwpsV/q1KmTTRnaUM01adIk3XzzzfL29lZAQIDuvvtu7d2716YM+yGU52LaEPshlOXdd99V27Zt5ePjIx8fH0VEROjnn38257P/QWUiwEKN9OWXX2rUqFF64YUXtGXLFnXt2lV9+/ZVTEyMvasGB3DDDTcoLi7OfGzfvt2c9/rrr2vatGmaOXOmNmzYoKCgIPXq1UtpaWlmmVGjRmnBggWaN2+eVq9erfT0dPXv31/5+fn2WB1UsYyMDLVr104zZ84sdX5ltZnBgwdr69atWrRokRYtWqStW7cqKiqqytcPVa+iNiRJffr0sdkv/fTTTzbzaUM118qVK/XUU09p7dq1WrJkifLy8hQZGamMjAyzDPshlOdi2pDEfgila9iwoSZPnqyNGzdq48aN6tGjh+666y4zpGL/g0plADXQLbfcYgwbNsxm2vXXX2/84x//sFON4Chefvllo127dqXOKygoMIKCgozJkyeb07Kysgyr1Wq89957hmEYRnJysuHq6mrMmzfPLHP8+HHDycnJWLRoUZXWHfYnyViwYIH5vLLazK5duwxJxtq1a80y0dHRhiRjz549VbxWqE4XtiHDMIxHHnnEuOuuu8p8DW0IxSUkJBiSjJUrVxqGwX4Il+7CNmQY7IdwaXx9fY3//ve/7H9Q6eiBhRonJydHmzZtUmRkpM30yMhIrVmzxk61giPZv3+/goODFRoaqgcffFCHDh2SJB0+fFjx8fE2bcfd3V3dunUz286mTZuUm5trUyY4OFhhYWG0rxqostpMdHS0rFarOnbsaJbp1KmTrFYr7aqGWLFihQICAnTddddp6NChSkhIMOfRhlBcSkqKJMnPz08S+yFcugvbUBH2Q6hIfn6+5s2bp4yMDEVERLD/QaUjwEKNc+rUKeXn5yswMNBmemBgoOLj4+1UKziKjh076pNPPtEvv/yiDz/8UPHx8ercubNOnz5tto/y2k58fLzc3Nzk6+tbZhnUHJXVZuLj4xUQEFBi+QEBAbSrGqBv37767LPP9Ouvv2rq1KnasGGDevTooezsbEm0IZxnGIZGjx6tW2+9VWFhYZLYD+HSlNaGJPZDKN/27dtVu3Ztubu7a9iwYVqwYIFat27N/geVzsXeFQDsxWKx2Dw3DKPENNQ8ffv2Nf9u06aNIiIi1KxZM3388cfmYKWX03ZoXzVbZbSZ0srTrmqGBx54wPw7LCxMHTp0UOPGjbVw4UINGjSozNfRhmqeESNGaNu2bVq9enWJeeyHcDHKakPsh1Celi1bauvWrUpOTtb8+fP1yCOPaOXKleZ89j+oLPTAQo3j7+8vZ2fnEml9QkJCiasDgJeXl9q0aaP9+/ebv0ZYXtsJCgpSTk6OkpKSyiyDmqOy2kxQUJBOnjxZYvmJiYm0qxqofv36aty4sfbv3y+JNoRCTz/9tL7//nstX75cDRs2NKezH8LFKqsNlYb9EIpzc3NT8+bN1aFDB02aNEnt2rXTf/7zH/Y/qHQEWKhx3NzcFB4eriVLlthMX7JkiTp37mynWsFRZWdna/fu3apfv75CQ0MVFBRk03ZycnK0cuVKs+2Eh4fL1dXVpkxcXJx27NhB+6qBKqvNREREKCUlRevXrzfLrFu3TikpKbSrGuj06dOKjY1V/fr1JdGGajrDMDRixAh98803+vXXXxUaGmozn/0QKlJRGyoN+yGUxzAMZWdns/9B5avWIeMBBzFv3jzD1dXVmDVrlrFr1y5j1KhRhpeXl3HkyBF7Vw12NmbMGGPFihXGoUOHjLVr1xr9+/c3vL29zbYxefJkw2q1Gt98842xfft246GHHjLq169vpKammssYNmyY0bBhQ2Pp0qXG5s2bjR49ehjt2rUz8vLy7LVaqEJpaWnGli1bjC1bthiSjGnTphlbtmwxjh49ahhG5bWZPn36GG3btjWio6ON6Ohoo02bNkb//v2rfX1R+cprQ2lpacaYMWOMNWvWGIcPHzaWL19uREREGA0aNKANwTAMw3jyyScNq9VqrFixwoiLizMfZ8+eNcuwH0J5KmpD7IdQnnHjxhmrVq0yDh8+bGzbts14/vnnDScnJ2Px4sWGYbD/QeUiwEKN9fbbbxuNGzc23NzcjJtuusnmp4JRcz3wwANG/fr1DVdXVyM4ONgYNGiQsXPnTnN+QUGB8fLLLxtBQUGGu7u7cdtttxnbt2+3WUZmZqYxYsQIw8/Pz/D09DT69+9vxMTEVPeqoJosX77ckFTi8cgjjxiGUXlt5vTp08bDDz9seHt7G97e3sbDDz9sJCUlVdNaoiqV14bOnj1rREZGGvXq1TNcXV2NRo0aGY888kiJ9kEbqrlKazuSjNmzZ5tl2A+hPBW1IfZDKM/f/vY385yqXr16Rs+ePc3wyjDY/6ByWQzDMKqvvxcAAAAAAABwaRgDCwAAAAAAAA6NAAsAAAAAAAAOjQALAAAAAAAADo0ACwAAAAAAAA6NAAsAAAAAAAAOjQALAAAAAAAADo0ACwAAAAAAAA6NAAsAAAAAAAAOjQALAAAAAAAADo0ACwAAAAAAAA6NAAsAAAAAAAAO7f8BAzze+UgWSLEAAAAASUVORK5CYII=' width=1200.0/>\n",
       "            </div>\n",
       "        "
      ],
      "text/plain": [
       "Canvas(toolbar=Toolbar(toolitems=[('Home', 'Reset original view', 'home', 'home'), ('Back', 'Back to previous …"
      ]
     },
     "metadata": {},
     "output_type": "display_data"
    }
   ],
   "source": [
    "# Plot artifact onto an example channel\n",
    "chan_plot = 8 # Select a good channel\n",
    "art_fig = plot_signal_w_epochs(signal, chan_plot, art_epochs)\n",
    "art_fig_name = f'{session_name}_Artifacts_Channel{chan_plot}.png' \n",
    "plt.savefig(plot_dir / art_fig_name, dpi=300, bbox_inches='tight')  # Save with full path"
   ]
  },
  {
   "cell_type": "markdown",
   "id": "22b4a28c-9844-41e2-b67a-4f7d6d24bb7a",
   "metadata": {},
   "source": [
    "### Identify Stimulation Epochs\n",
    "- Stimulation will have artifacts that are highly stereotyped"
   ]
  },
  {
   "cell_type": "code",
   "execution_count": 11,
   "id": "393c0092-ad4a-441e-8a7d-f0a2879656a8",
   "metadata": {},
   "outputs": [
    {
     "name": "stdout",
     "output_type": "stream",
     "text": [
      "E:\\Data\\PCDisruption\\Strawberry\\Stb_2024-10-30_Suzuka_2\\Stb_2024-10-30_Suzuka.stim_epochs.npy saved\n"
     ]
    },
    {
     "data": {
      "text/html": [
       "<div>\n",
       "<style scoped>\n",
       "    .dataframe tbody tr th:only-of-type {\n",
       "        vertical-align: middle;\n",
       "    }\n",
       "\n",
       "    .dataframe tbody tr th {\n",
       "        vertical-align: top;\n",
       "    }\n",
       "\n",
       "    .dataframe thead th {\n",
       "        text-align: right;\n",
       "    }\n",
       "</style>\n",
       "<table border=\"1\" class=\"dataframe\">\n",
       "  <thead>\n",
       "    <tr style=\"text-align: right;\">\n",
       "      <th></th>\n",
       "      <th>start</th>\n",
       "      <th>stop</th>\n",
       "      <th>label</th>\n",
       "      <th>duration</th>\n",
       "      <th>time_between</th>\n",
       "    </tr>\n",
       "  </thead>\n",
       "  <tbody>\n",
       "    <tr>\n",
       "      <th>1</th>\n",
       "      <td>300.847800</td>\n",
       "      <td>300.897800</td>\n",
       "      <td></td>\n",
       "      <td>0.05</td>\n",
       "      <td>0.004367</td>\n",
       "    </tr>\n",
       "    <tr>\n",
       "      <th>2</th>\n",
       "      <td>300.937867</td>\n",
       "      <td>300.987867</td>\n",
       "      <td></td>\n",
       "      <td>0.05</td>\n",
       "      <td>0.040067</td>\n",
       "    </tr>\n",
       "    <tr>\n",
       "      <th>3</th>\n",
       "      <td>301.032200</td>\n",
       "      <td>301.082200</td>\n",
       "      <td></td>\n",
       "      <td>0.05</td>\n",
       "      <td>0.044333</td>\n",
       "    </tr>\n",
       "    <tr>\n",
       "      <th>4</th>\n",
       "      <td>301.127000</td>\n",
       "      <td>301.177000</td>\n",
       "      <td></td>\n",
       "      <td>0.05</td>\n",
       "      <td>0.044800</td>\n",
       "    </tr>\n",
       "    <tr>\n",
       "      <th>5</th>\n",
       "      <td>301.234833</td>\n",
       "      <td>301.284833</td>\n",
       "      <td></td>\n",
       "      <td>0.05</td>\n",
       "      <td>0.057833</td>\n",
       "    </tr>\n",
       "    <tr>\n",
       "      <th>...</th>\n",
       "      <td>...</td>\n",
       "      <td>...</td>\n",
       "      <td>...</td>\n",
       "      <td>...</td>\n",
       "      <td>...</td>\n",
       "    </tr>\n",
       "    <tr>\n",
       "      <th>1058</th>\n",
       "      <td>1708.062067</td>\n",
       "      <td>1708.112067</td>\n",
       "      <td></td>\n",
       "      <td>0.05</td>\n",
       "      <td>0.051533</td>\n",
       "    </tr>\n",
       "    <tr>\n",
       "      <th>1059</th>\n",
       "      <td>1708.162400</td>\n",
       "      <td>1708.212400</td>\n",
       "      <td></td>\n",
       "      <td>0.05</td>\n",
       "      <td>0.050333</td>\n",
       "    </tr>\n",
       "    <tr>\n",
       "      <th>1060</th>\n",
       "      <td>1708.263400</td>\n",
       "      <td>1708.313400</td>\n",
       "      <td></td>\n",
       "      <td>0.05</td>\n",
       "      <td>0.051000</td>\n",
       "    </tr>\n",
       "    <tr>\n",
       "      <th>1061</th>\n",
       "      <td>1708.363167</td>\n",
       "      <td>1708.413167</td>\n",
       "      <td></td>\n",
       "      <td>0.05</td>\n",
       "      <td>0.049767</td>\n",
       "    </tr>\n",
       "    <tr>\n",
       "      <th>1062</th>\n",
       "      <td>1708.464033</td>\n",
       "      <td>1708.514033</td>\n",
       "      <td></td>\n",
       "      <td>0.05</td>\n",
       "      <td>0.050867</td>\n",
       "    </tr>\n",
       "  </tbody>\n",
       "</table>\n",
       "<p>1062 rows × 5 columns</p>\n",
       "</div>"
      ],
      "text/plain": [
       "            start         stop label  duration  time_between\n",
       "1      300.847800   300.897800            0.05      0.004367\n",
       "2      300.937867   300.987867            0.05      0.040067\n",
       "3      301.032200   301.082200            0.05      0.044333\n",
       "4      301.127000   301.177000            0.05      0.044800\n",
       "5      301.234833   301.284833            0.05      0.057833\n",
       "...           ...          ...   ...       ...           ...\n",
       "1058  1708.062067  1708.112067            0.05      0.051533\n",
       "1059  1708.162400  1708.212400            0.05      0.050333\n",
       "1060  1708.263400  1708.313400            0.05      0.051000\n",
       "1061  1708.363167  1708.413167            0.05      0.049767\n",
       "1062  1708.464033  1708.514033            0.05      0.050867\n",
       "\n",
       "[1062 rows x 5 columns]"
      ]
     },
     "execution_count": 11,
     "metadata": {},
     "output_type": "execute_result"
    }
   ],
   "source": [
    "SR = sess.recinfo.dat_sampling_rate\n",
    "\n",
    "# Get sample numbers for TTL Events\n",
    "ttl_events = load_all_ttl_events(sess.basepath)\n",
    "\n",
    "stim_on_events = ttl_events.loc[ttl_events[\"channel_states\"] == 1, \"sample_number\"]\n",
    "stim_off_events = ttl_events.loc[ttl_events[\"channel_states\"] == -1, \"sample_number\"]\n",
    "stim_art_events = ttl_events.loc[ttl_events[\"channel_states\"].abs() == 1, \"sample_number\"]\n",
    "\n",
    "stim_epochs_file = sess.filePrefix.with_suffix(\".stim_epochs.npy\")\n",
    "\n",
    "stim_epochs = Epoch(pd.DataFrame({\n",
    "    \"start\": stim_on_events.reset_index(drop=True) / SR, \n",
    "    \"stop\": stim_off_events.reset_index(drop=True) / SR, \n",
    "    \"label\": \"\"\n",
    "    }))\n",
    "\n",
    "stim_epochs_df = stim_epochs.to_dataframe()\n",
    "stim_epochs_df['time_between'] = stim_epochs_df['start'] - stim_epochs_df['stop'].shift(1)\n",
    "stim_epochs_df = stim_epochs_df.drop(0)\n",
    "\n",
    "# Rudimentary Labeling\n",
    "stim_epochs = Epoch(stim_epochs_df)\n",
    "sess.recinfo.write_epochs(epochs=stim_epochs, ext='stm')\n",
    "stim_epochs.save(stim_epochs_file)\n",
    "stim_epochs_df"
   ]
  },
  {
   "cell_type": "markdown",
   "id": "ce4e302d-918c-461d-95f0-ce37d67c007a",
   "metadata": {},
   "source": [
    "#### Identify Stimulation Artifacts\n",
    "Stimulation Artifact can currently be classified in several ways\n",
    "- TTLs: Timestamps of the stim means we create a buffer around the TTL to determine the artifact."
   ]
  },
  {
   "cell_type": "code",
   "execution_count": 12,
   "id": "ee1f9a56-c704-4b73-b44e-7e4185baa87e",
   "metadata": {},
   "outputs": [
    {
     "name": "stdout",
     "output_type": "stream",
     "text": [
      "E:\\Data\\PCDisruption\\Strawberry\\Stb_2024-10-30_Suzuka_2\\Stb_2024-10-30_Suzuka.stim_art_epochs.npy saved\n",
      "            start         stop  label\n",
      "0      300.846800   300.857800      0\n",
      "1      300.896800   300.907800      1\n",
      "2      300.936867   300.947867      0\n",
      "3      300.986867   300.997867      1\n",
      "4      301.031200   301.042200      0\n",
      "...           ...          ...    ...\n",
      "2119  1708.312400  1708.323400      1\n",
      "2120  1708.362167  1708.373167      0\n",
      "2121  1708.412167  1708.423167      1\n",
      "2122  1708.463033  1708.474033      0\n",
      "2123  1708.513033  1708.524033      1\n",
      "\n",
      "[2124 rows x 3 columns]\n"
     ]
    }
   ],
   "source": [
    "s_buffer = 0.001\n",
    "e_buffer = 0.01\n",
    "buffer_duration = s_buffer + e_buffer\n",
    "\n",
    "stim_art_epochs_file = sess.filePrefix.with_suffix(\".stim_art_epochs.npy\")\n",
    "\n",
    "start_adjusted = pd.DataFrame({\n",
    "    'start': stim_epochs_df['start'] - s_buffer,\n",
    "    'stop': stim_epochs_df['start'] + e_buffer,\n",
    "    'label': 0\n",
    "})\n",
    "\n",
    "stop_adjusted = pd.DataFrame({\n",
    "    'start': stim_epochs_df['stop'] - s_buffer,\n",
    "    'stop': stim_epochs_df['stop'] + e_buffer,\n",
    "    'label': 1\n",
    "})\n",
    "\n",
    "stim_art_epochs_df = pd.concat([start_adjusted, stop_adjusted]).sort_values(by='start').reset_index(drop=True)\n",
    "stim_art_epochs = Epoch(stim_art_epochs_df)\n",
    "sess.recinfo.write_epochs(epochs=stim_art_epochs, ext='sta')\n",
    "stim_art_epochs.save(stim_art_epochs_file)\n",
    "print(stim_art_epochs_df)"
   ]
  },
  {
   "cell_type": "markdown",
   "id": "fbd93efd-a450-4a55-a074-2d596efe7e05",
   "metadata": {},
   "source": [
    "#### Write Stim Artifact to a Trigger Detection File"
   ]
  },
  {
   "cell_type": "code",
   "execution_count": 13,
   "id": "99a19451-864c-4cb6-ab11-3965aab73182",
   "metadata": {},
   "outputs": [],
   "source": [
    "def format_row(row):\n",
    "    prefix = int(row['label'])\n",
    "    start_ms = row['start'] * 1000  # Convert start time to milliseconds\n",
    "    return f\"{prefix} {start_ms:.6f}\"\n",
    "\n",
    "# Apply the function to each row\n",
    "output = stim_art_epochs_df.apply(format_row, axis=1)\n",
    "\n",
    "# Save to a text file without index or header\n",
    "stim_times_filepath = basepath / 'spyk-circ' / 'stim_times.txt'\n",
    "\n",
    "\n",
    "#stim_times_filepath = basepath + '/spyk-circ/stim_times.txt'\n",
    "# Create spyk-circ directory\n",
    "spyk_circ = basepath / 'spyk-circ'\n",
    "os.makedirs(spyk_circ, exist_ok=True)\n",
    "output.to_csv(stim_times_filepath, index=False, header=False)"
   ]
  },
  {
   "cell_type": "code",
   "execution_count": 77,
   "id": "a29b14c9-25c6-486c-8c75-fc6100b09fd7",
   "metadata": {},
   "outputs": [],
   "source": [
    "# Create Stim Windows Text File\n",
    "stim_windows_filepath = spyk_circ / 'stim_windows.txt'\n",
    "with open(stim_windows_filepath, \"w\") as file:\n",
    "    file.write(\"// Estimated duration of artifacts\\n\")\n",
    "    for index, row in stim_window_df.iterrows():\n",
    "        file.write(f\"// Stim {row['label']} lasts {(row['dur']*1000):.6f} ms\\n\")\n",
    "    for index, row in stim_window_df.iterrows():\n",
    "        file.write(f\"{int(row['label'])} {(row['dur']*1000):.6f} # Opto \\n\")\n"
   ]
  },
  {
   "cell_type": "code",
   "execution_count": 76,
   "id": "01d1a76a-80b2-4e7b-9f17-c05cf461d452",
   "metadata": {},
   "outputs": [
    {
     "name": "stdout",
     "output_type": "stream",
     "text": [
      "   label       dur\n",
      "0      0  0.021974\n",
      "1      1  0.054994\n",
      "2      2  0.071433\n"
     ]
    }
   ],
   "source": [
    "print(stim_window_df)"
   ]
  },
  {
   "cell_type": "markdown",
   "id": "37e5783f-ff87-4cf9-a547-7cdcd4e40431",
   "metadata": {},
   "source": [
    "### Write to Spyking-Circus `dead_times.txt` File\n",
    "- Text file containing 2 columns, start and stop of artifact epochs that should be ignored by spike sorting algorithm."
   ]
  },
  {
   "cell_type": "code",
   "execution_count": 65,
   "id": "ed2d3361-8858-4e4e-b250-92f2d45ec8d1",
   "metadata": {},
   "outputs": [
    {
     "name": "stdout",
     "output_type": "stream",
     "text": [
      "dead_times.txt created\n"
     ]
    }
   ],
   "source": [
    "sess.filePrefix.with_suffix(\".art_epochs.npy\")\n",
    "SpykingCircusIO.write_epochs(spyk_circ / 'dead_times.txt', art_epochs)"
   ]
  },
  {
   "cell_type": "code",
   "execution_count": 66,
   "id": "b4160309-9465-44ee-b092-45909760dc90",
   "metadata": {},
   "outputs": [
    {
     "name": "stdout",
     "output_type": "stream",
     "text": [
      "File copied successfully from E:\\Data\\PCDisruption\\Strawberry\\Stb_2024-10-30_Suzuka_2\\Stb_2024-10-30_Suzuka.dat to E:\\Data\\PCDisruption\\Strawberry\\Stb_2024-10-30_Suzuka_2\\spyk-circ\\Stb_2024-10-30_Suzuka.dat\n"
     ]
    }
   ],
   "source": [
    "import shutil\n",
    "\n",
    "# Copy .dat file to spyk-circ\n",
    "source = basepath / (cur_folder + \".dat\")\n",
    "dest = basepath / \"spyk-circ\" / (cur_folder + \".dat\")\n",
    "shutil.copy(source, dest)\n",
    "print(f\"File copied successfully from {source} to {dest}\")\n"
   ]
  },
  {
   "cell_type": "code",
   "execution_count": 67,
   "id": "adfd56b6-3407-4937-9a8c-a6453adc7763",
   "metadata": {},
   "outputs": [],
   "source": [
    "from datetime import datetime\n",
    "current_datetime = datetime.now().strftime(\"%Y-%m-%d %H:%M:%S\")\n",
    "\n",
    "log_path = basepath / f\"{session_name}_Processing_Log.txt\"\n",
    "log_path.parent.mkdir(parents=True, exist_ok=True)\n",
    "with open(log_path, 'w') as file:\n",
    "    file.write(f\"Session name: {session_name}\\n\")\n",
    "    file.write(f\"Datetime: {current_datetime}\\n\")\n",
    "    file.write(f\"Working OS: {cur_system}\\n\")\n",
    "    file.write(f\"Basepath: {basepath}\\n\")\n",
    "    file.write(f\"Working Directory: {cur_folder}\\n\")\n",
    "    file.write(f\"Session Name: {session_name}\\n\")\n",
    "    file.write(f\"Save Directory: {save_dir}\\n\")\n",
    "    file.write(f\"Plot Directory: {plot_dir}\\n\\n\")\n",
    "\n",
    "    file.write(\"Artifact Detection Parameters:\\n\")\n",
    "    file.write(f\"Buffer: {buffer_add}\\n\")\n",
    "    file.write(f\"Artifact Threshold: {art_thresh}\\n\")\n",
    "    file.write(f\"Artifact Edge Cutoff: {art_edge_cutoff}\\n\")\n",
    "    file.write(f\"Artifact Merge Distance: {art_merge}\\n\")\n",
    "    file.write(f\"Stimulation Artifact Buffer: {buffer}\\n\\n\")"
   ]
  },
  {
   "cell_type": "code",
   "execution_count": null,
   "id": "a006bbd0-3c71-4360-9559-559a8805d9fd",
   "metadata": {},
   "outputs": [],
   "source": []
  }
 ],
 "metadata": {
  "kernelspec": {
   "display_name": "Python 3 (ipykernel)",
   "language": "python",
   "name": "python3"
  },
  "language_info": {
   "codemirror_mode": {
    "name": "ipython",
    "version": 3
   },
   "file_extension": ".py",
   "mimetype": "text/x-python",
   "name": "python",
   "nbconvert_exporter": "python",
   "pygments_lexer": "ipython3",
   "version": "3.11.9"
  }
 },
 "nbformat": 4,
 "nbformat_minor": 5
}
